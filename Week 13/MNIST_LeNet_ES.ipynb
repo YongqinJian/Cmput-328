{
  "nbformat": 4,
  "nbformat_minor": 0,
  "metadata": {
    "colab": {
      "name": "MNIST_LeNet_ES.ipynb",
      "provenance": [],
      "collapsed_sections": []
    },
    "kernelspec": {
      "name": "python3",
      "display_name": "Python 3"
    },
    "accelerator": "GPU",
    "widgets": {
      "application/vnd.jupyter.widget-state+json": {
        "f95e04fd91cd4b50b12659fee4270e49": {
          "model_module": "@jupyter-widgets/controls",
          "model_name": "HBoxModel",
          "state": {
            "_view_name": "HBoxView",
            "_dom_classes": [],
            "_model_name": "HBoxModel",
            "_view_module": "@jupyter-widgets/controls",
            "_model_module_version": "1.5.0",
            "_view_count": null,
            "_view_module_version": "1.5.0",
            "box_style": "",
            "layout": "IPY_MODEL_10fd8fa8525b4acdb36b3c59c352aa6a",
            "_model_module": "@jupyter-widgets/controls",
            "children": [
              "IPY_MODEL_7e5ab8c430bf4288a23fb5e1e6fe908a",
              "IPY_MODEL_2ea2472daaa54205a565a58ae9e46856"
            ]
          }
        },
        "10fd8fa8525b4acdb36b3c59c352aa6a": {
          "model_module": "@jupyter-widgets/base",
          "model_name": "LayoutModel",
          "state": {
            "_view_name": "LayoutView",
            "grid_template_rows": null,
            "right": null,
            "justify_content": null,
            "_view_module": "@jupyter-widgets/base",
            "overflow": null,
            "_model_module_version": "1.2.0",
            "_view_count": null,
            "flex_flow": null,
            "width": null,
            "min_width": null,
            "border": null,
            "align_items": null,
            "bottom": null,
            "_model_module": "@jupyter-widgets/base",
            "top": null,
            "grid_column": null,
            "overflow_y": null,
            "overflow_x": null,
            "grid_auto_flow": null,
            "grid_area": null,
            "grid_template_columns": null,
            "flex": null,
            "_model_name": "LayoutModel",
            "justify_items": null,
            "grid_row": null,
            "max_height": null,
            "align_content": null,
            "visibility": null,
            "align_self": null,
            "height": null,
            "min_height": null,
            "padding": null,
            "grid_auto_rows": null,
            "grid_gap": null,
            "max_width": null,
            "order": null,
            "_view_module_version": "1.2.0",
            "grid_template_areas": null,
            "object_position": null,
            "object_fit": null,
            "grid_auto_columns": null,
            "margin": null,
            "display": null,
            "left": null
          }
        },
        "7e5ab8c430bf4288a23fb5e1e6fe908a": {
          "model_module": "@jupyter-widgets/controls",
          "model_name": "FloatProgressModel",
          "state": {
            "_view_name": "ProgressView",
            "style": "IPY_MODEL_639a04dd60c94f6f994424fef40f5374",
            "_dom_classes": [],
            "description": "",
            "_model_name": "FloatProgressModel",
            "bar_style": "success",
            "max": 1,
            "_view_module": "@jupyter-widgets/controls",
            "_model_module_version": "1.5.0",
            "value": 1,
            "_view_count": null,
            "_view_module_version": "1.5.0",
            "orientation": "horizontal",
            "min": 0,
            "description_tooltip": null,
            "_model_module": "@jupyter-widgets/controls",
            "layout": "IPY_MODEL_ffbb0ef3720b460c8679dd631dcc5646"
          }
        },
        "2ea2472daaa54205a565a58ae9e46856": {
          "model_module": "@jupyter-widgets/controls",
          "model_name": "HTMLModel",
          "state": {
            "_view_name": "HTMLView",
            "style": "IPY_MODEL_f439b770e4cd42b3919dc36e1bdfe4b2",
            "_dom_classes": [],
            "description": "",
            "_model_name": "HTMLModel",
            "placeholder": "​",
            "_view_module": "@jupyter-widgets/controls",
            "_model_module_version": "1.5.0",
            "value": " 9920512/? [00:08&lt;00:00, 1217445.97it/s]",
            "_view_count": null,
            "_view_module_version": "1.5.0",
            "description_tooltip": null,
            "_model_module": "@jupyter-widgets/controls",
            "layout": "IPY_MODEL_13466e9b1e3249acb26d9afce4141171"
          }
        },
        "639a04dd60c94f6f994424fef40f5374": {
          "model_module": "@jupyter-widgets/controls",
          "model_name": "ProgressStyleModel",
          "state": {
            "_view_name": "StyleView",
            "_model_name": "ProgressStyleModel",
            "description_width": "initial",
            "_view_module": "@jupyter-widgets/base",
            "_model_module_version": "1.5.0",
            "_view_count": null,
            "_view_module_version": "1.2.0",
            "bar_color": null,
            "_model_module": "@jupyter-widgets/controls"
          }
        },
        "ffbb0ef3720b460c8679dd631dcc5646": {
          "model_module": "@jupyter-widgets/base",
          "model_name": "LayoutModel",
          "state": {
            "_view_name": "LayoutView",
            "grid_template_rows": null,
            "right": null,
            "justify_content": null,
            "_view_module": "@jupyter-widgets/base",
            "overflow": null,
            "_model_module_version": "1.2.0",
            "_view_count": null,
            "flex_flow": null,
            "width": null,
            "min_width": null,
            "border": null,
            "align_items": null,
            "bottom": null,
            "_model_module": "@jupyter-widgets/base",
            "top": null,
            "grid_column": null,
            "overflow_y": null,
            "overflow_x": null,
            "grid_auto_flow": null,
            "grid_area": null,
            "grid_template_columns": null,
            "flex": null,
            "_model_name": "LayoutModel",
            "justify_items": null,
            "grid_row": null,
            "max_height": null,
            "align_content": null,
            "visibility": null,
            "align_self": null,
            "height": null,
            "min_height": null,
            "padding": null,
            "grid_auto_rows": null,
            "grid_gap": null,
            "max_width": null,
            "order": null,
            "_view_module_version": "1.2.0",
            "grid_template_areas": null,
            "object_position": null,
            "object_fit": null,
            "grid_auto_columns": null,
            "margin": null,
            "display": null,
            "left": null
          }
        },
        "f439b770e4cd42b3919dc36e1bdfe4b2": {
          "model_module": "@jupyter-widgets/controls",
          "model_name": "DescriptionStyleModel",
          "state": {
            "_view_name": "StyleView",
            "_model_name": "DescriptionStyleModel",
            "description_width": "",
            "_view_module": "@jupyter-widgets/base",
            "_model_module_version": "1.5.0",
            "_view_count": null,
            "_view_module_version": "1.2.0",
            "_model_module": "@jupyter-widgets/controls"
          }
        },
        "13466e9b1e3249acb26d9afce4141171": {
          "model_module": "@jupyter-widgets/base",
          "model_name": "LayoutModel",
          "state": {
            "_view_name": "LayoutView",
            "grid_template_rows": null,
            "right": null,
            "justify_content": null,
            "_view_module": "@jupyter-widgets/base",
            "overflow": null,
            "_model_module_version": "1.2.0",
            "_view_count": null,
            "flex_flow": null,
            "width": null,
            "min_width": null,
            "border": null,
            "align_items": null,
            "bottom": null,
            "_model_module": "@jupyter-widgets/base",
            "top": null,
            "grid_column": null,
            "overflow_y": null,
            "overflow_x": null,
            "grid_auto_flow": null,
            "grid_area": null,
            "grid_template_columns": null,
            "flex": null,
            "_model_name": "LayoutModel",
            "justify_items": null,
            "grid_row": null,
            "max_height": null,
            "align_content": null,
            "visibility": null,
            "align_self": null,
            "height": null,
            "min_height": null,
            "padding": null,
            "grid_auto_rows": null,
            "grid_gap": null,
            "max_width": null,
            "order": null,
            "_view_module_version": "1.2.0",
            "grid_template_areas": null,
            "object_position": null,
            "object_fit": null,
            "grid_auto_columns": null,
            "margin": null,
            "display": null,
            "left": null
          }
        },
        "8502f10b1a1548d8a199bf78176b816b": {
          "model_module": "@jupyter-widgets/controls",
          "model_name": "HBoxModel",
          "state": {
            "_view_name": "HBoxView",
            "_dom_classes": [],
            "_model_name": "HBoxModel",
            "_view_module": "@jupyter-widgets/controls",
            "_model_module_version": "1.5.0",
            "_view_count": null,
            "_view_module_version": "1.5.0",
            "box_style": "",
            "layout": "IPY_MODEL_96a56e432384460486e4536e113226a3",
            "_model_module": "@jupyter-widgets/controls",
            "children": [
              "IPY_MODEL_fc812703337f4b3da9b1469edbc33afc",
              "IPY_MODEL_0bb1e073c0aa4ffca00a3c52d80a29af"
            ]
          }
        },
        "96a56e432384460486e4536e113226a3": {
          "model_module": "@jupyter-widgets/base",
          "model_name": "LayoutModel",
          "state": {
            "_view_name": "LayoutView",
            "grid_template_rows": null,
            "right": null,
            "justify_content": null,
            "_view_module": "@jupyter-widgets/base",
            "overflow": null,
            "_model_module_version": "1.2.0",
            "_view_count": null,
            "flex_flow": null,
            "width": null,
            "min_width": null,
            "border": null,
            "align_items": null,
            "bottom": null,
            "_model_module": "@jupyter-widgets/base",
            "top": null,
            "grid_column": null,
            "overflow_y": null,
            "overflow_x": null,
            "grid_auto_flow": null,
            "grid_area": null,
            "grid_template_columns": null,
            "flex": null,
            "_model_name": "LayoutModel",
            "justify_items": null,
            "grid_row": null,
            "max_height": null,
            "align_content": null,
            "visibility": null,
            "align_self": null,
            "height": null,
            "min_height": null,
            "padding": null,
            "grid_auto_rows": null,
            "grid_gap": null,
            "max_width": null,
            "order": null,
            "_view_module_version": "1.2.0",
            "grid_template_areas": null,
            "object_position": null,
            "object_fit": null,
            "grid_auto_columns": null,
            "margin": null,
            "display": null,
            "left": null
          }
        },
        "fc812703337f4b3da9b1469edbc33afc": {
          "model_module": "@jupyter-widgets/controls",
          "model_name": "FloatProgressModel",
          "state": {
            "_view_name": "ProgressView",
            "style": "IPY_MODEL_166a3f45168a423e96c702cccbb08a87",
            "_dom_classes": [],
            "description": "",
            "_model_name": "FloatProgressModel",
            "bar_style": "success",
            "max": 1,
            "_view_module": "@jupyter-widgets/controls",
            "_model_module_version": "1.5.0",
            "value": 1,
            "_view_count": null,
            "_view_module_version": "1.5.0",
            "orientation": "horizontal",
            "min": 0,
            "description_tooltip": null,
            "_model_module": "@jupyter-widgets/controls",
            "layout": "IPY_MODEL_43f5548a951c41a7beb74c8a8a9cc898"
          }
        },
        "0bb1e073c0aa4ffca00a3c52d80a29af": {
          "model_module": "@jupyter-widgets/controls",
          "model_name": "HTMLModel",
          "state": {
            "_view_name": "HTMLView",
            "style": "IPY_MODEL_8f37d61f223c41d1baa33333174f5645",
            "_dom_classes": [],
            "description": "",
            "_model_name": "HTMLModel",
            "placeholder": "​",
            "_view_module": "@jupyter-widgets/controls",
            "_model_module_version": "1.5.0",
            "value": " 32768/? [00:06&lt;00:00, 4877.91it/s]",
            "_view_count": null,
            "_view_module_version": "1.5.0",
            "description_tooltip": null,
            "_model_module": "@jupyter-widgets/controls",
            "layout": "IPY_MODEL_ddfeb7f6c94843c8bb273d8d0ca2bb2e"
          }
        },
        "166a3f45168a423e96c702cccbb08a87": {
          "model_module": "@jupyter-widgets/controls",
          "model_name": "ProgressStyleModel",
          "state": {
            "_view_name": "StyleView",
            "_model_name": "ProgressStyleModel",
            "description_width": "initial",
            "_view_module": "@jupyter-widgets/base",
            "_model_module_version": "1.5.0",
            "_view_count": null,
            "_view_module_version": "1.2.0",
            "bar_color": null,
            "_model_module": "@jupyter-widgets/controls"
          }
        },
        "43f5548a951c41a7beb74c8a8a9cc898": {
          "model_module": "@jupyter-widgets/base",
          "model_name": "LayoutModel",
          "state": {
            "_view_name": "LayoutView",
            "grid_template_rows": null,
            "right": null,
            "justify_content": null,
            "_view_module": "@jupyter-widgets/base",
            "overflow": null,
            "_model_module_version": "1.2.0",
            "_view_count": null,
            "flex_flow": null,
            "width": null,
            "min_width": null,
            "border": null,
            "align_items": null,
            "bottom": null,
            "_model_module": "@jupyter-widgets/base",
            "top": null,
            "grid_column": null,
            "overflow_y": null,
            "overflow_x": null,
            "grid_auto_flow": null,
            "grid_area": null,
            "grid_template_columns": null,
            "flex": null,
            "_model_name": "LayoutModel",
            "justify_items": null,
            "grid_row": null,
            "max_height": null,
            "align_content": null,
            "visibility": null,
            "align_self": null,
            "height": null,
            "min_height": null,
            "padding": null,
            "grid_auto_rows": null,
            "grid_gap": null,
            "max_width": null,
            "order": null,
            "_view_module_version": "1.2.0",
            "grid_template_areas": null,
            "object_position": null,
            "object_fit": null,
            "grid_auto_columns": null,
            "margin": null,
            "display": null,
            "left": null
          }
        },
        "8f37d61f223c41d1baa33333174f5645": {
          "model_module": "@jupyter-widgets/controls",
          "model_name": "DescriptionStyleModel",
          "state": {
            "_view_name": "StyleView",
            "_model_name": "DescriptionStyleModel",
            "description_width": "",
            "_view_module": "@jupyter-widgets/base",
            "_model_module_version": "1.5.0",
            "_view_count": null,
            "_view_module_version": "1.2.0",
            "_model_module": "@jupyter-widgets/controls"
          }
        },
        "ddfeb7f6c94843c8bb273d8d0ca2bb2e": {
          "model_module": "@jupyter-widgets/base",
          "model_name": "LayoutModel",
          "state": {
            "_view_name": "LayoutView",
            "grid_template_rows": null,
            "right": null,
            "justify_content": null,
            "_view_module": "@jupyter-widgets/base",
            "overflow": null,
            "_model_module_version": "1.2.0",
            "_view_count": null,
            "flex_flow": null,
            "width": null,
            "min_width": null,
            "border": null,
            "align_items": null,
            "bottom": null,
            "_model_module": "@jupyter-widgets/base",
            "top": null,
            "grid_column": null,
            "overflow_y": null,
            "overflow_x": null,
            "grid_auto_flow": null,
            "grid_area": null,
            "grid_template_columns": null,
            "flex": null,
            "_model_name": "LayoutModel",
            "justify_items": null,
            "grid_row": null,
            "max_height": null,
            "align_content": null,
            "visibility": null,
            "align_self": null,
            "height": null,
            "min_height": null,
            "padding": null,
            "grid_auto_rows": null,
            "grid_gap": null,
            "max_width": null,
            "order": null,
            "_view_module_version": "1.2.0",
            "grid_template_areas": null,
            "object_position": null,
            "object_fit": null,
            "grid_auto_columns": null,
            "margin": null,
            "display": null,
            "left": null
          }
        },
        "2b31b21df2ce433e9ce91de024fea9ae": {
          "model_module": "@jupyter-widgets/controls",
          "model_name": "HBoxModel",
          "state": {
            "_view_name": "HBoxView",
            "_dom_classes": [],
            "_model_name": "HBoxModel",
            "_view_module": "@jupyter-widgets/controls",
            "_model_module_version": "1.5.0",
            "_view_count": null,
            "_view_module_version": "1.5.0",
            "box_style": "",
            "layout": "IPY_MODEL_0f134d1f4025443ead0b18c4d8f667b5",
            "_model_module": "@jupyter-widgets/controls",
            "children": [
              "IPY_MODEL_a73ecfd8e7d74f1aa586c79f783d9850",
              "IPY_MODEL_b15cdbf71e9948e48e4f92dead1e152c"
            ]
          }
        },
        "0f134d1f4025443ead0b18c4d8f667b5": {
          "model_module": "@jupyter-widgets/base",
          "model_name": "LayoutModel",
          "state": {
            "_view_name": "LayoutView",
            "grid_template_rows": null,
            "right": null,
            "justify_content": null,
            "_view_module": "@jupyter-widgets/base",
            "overflow": null,
            "_model_module_version": "1.2.0",
            "_view_count": null,
            "flex_flow": null,
            "width": null,
            "min_width": null,
            "border": null,
            "align_items": null,
            "bottom": null,
            "_model_module": "@jupyter-widgets/base",
            "top": null,
            "grid_column": null,
            "overflow_y": null,
            "overflow_x": null,
            "grid_auto_flow": null,
            "grid_area": null,
            "grid_template_columns": null,
            "flex": null,
            "_model_name": "LayoutModel",
            "justify_items": null,
            "grid_row": null,
            "max_height": null,
            "align_content": null,
            "visibility": null,
            "align_self": null,
            "height": null,
            "min_height": null,
            "padding": null,
            "grid_auto_rows": null,
            "grid_gap": null,
            "max_width": null,
            "order": null,
            "_view_module_version": "1.2.0",
            "grid_template_areas": null,
            "object_position": null,
            "object_fit": null,
            "grid_auto_columns": null,
            "margin": null,
            "display": null,
            "left": null
          }
        },
        "a73ecfd8e7d74f1aa586c79f783d9850": {
          "model_module": "@jupyter-widgets/controls",
          "model_name": "FloatProgressModel",
          "state": {
            "_view_name": "ProgressView",
            "style": "IPY_MODEL_08d36409c0994a6095b7594b2af01803",
            "_dom_classes": [],
            "description": "",
            "_model_name": "FloatProgressModel",
            "bar_style": "success",
            "max": 1,
            "_view_module": "@jupyter-widgets/controls",
            "_model_module_version": "1.5.0",
            "value": 1,
            "_view_count": null,
            "_view_module_version": "1.5.0",
            "orientation": "horizontal",
            "min": 0,
            "description_tooltip": null,
            "_model_module": "@jupyter-widgets/controls",
            "layout": "IPY_MODEL_79b069f4053a47e58c2d8c162a735bc6"
          }
        },
        "b15cdbf71e9948e48e4f92dead1e152c": {
          "model_module": "@jupyter-widgets/controls",
          "model_name": "HTMLModel",
          "state": {
            "_view_name": "HTMLView",
            "style": "IPY_MODEL_50742f8150ac40ba9db1f81e5a8466a9",
            "_dom_classes": [],
            "description": "",
            "_model_name": "HTMLModel",
            "placeholder": "​",
            "_view_module": "@jupyter-widgets/controls",
            "_model_module_version": "1.5.0",
            "value": " 1654784/? [00:03&lt;00:00, 419947.01it/s]",
            "_view_count": null,
            "_view_module_version": "1.5.0",
            "description_tooltip": null,
            "_model_module": "@jupyter-widgets/controls",
            "layout": "IPY_MODEL_bfea623d9e56444c8cc273032925871d"
          }
        },
        "08d36409c0994a6095b7594b2af01803": {
          "model_module": "@jupyter-widgets/controls",
          "model_name": "ProgressStyleModel",
          "state": {
            "_view_name": "StyleView",
            "_model_name": "ProgressStyleModel",
            "description_width": "initial",
            "_view_module": "@jupyter-widgets/base",
            "_model_module_version": "1.5.0",
            "_view_count": null,
            "_view_module_version": "1.2.0",
            "bar_color": null,
            "_model_module": "@jupyter-widgets/controls"
          }
        },
        "79b069f4053a47e58c2d8c162a735bc6": {
          "model_module": "@jupyter-widgets/base",
          "model_name": "LayoutModel",
          "state": {
            "_view_name": "LayoutView",
            "grid_template_rows": null,
            "right": null,
            "justify_content": null,
            "_view_module": "@jupyter-widgets/base",
            "overflow": null,
            "_model_module_version": "1.2.0",
            "_view_count": null,
            "flex_flow": null,
            "width": null,
            "min_width": null,
            "border": null,
            "align_items": null,
            "bottom": null,
            "_model_module": "@jupyter-widgets/base",
            "top": null,
            "grid_column": null,
            "overflow_y": null,
            "overflow_x": null,
            "grid_auto_flow": null,
            "grid_area": null,
            "grid_template_columns": null,
            "flex": null,
            "_model_name": "LayoutModel",
            "justify_items": null,
            "grid_row": null,
            "max_height": null,
            "align_content": null,
            "visibility": null,
            "align_self": null,
            "height": null,
            "min_height": null,
            "padding": null,
            "grid_auto_rows": null,
            "grid_gap": null,
            "max_width": null,
            "order": null,
            "_view_module_version": "1.2.0",
            "grid_template_areas": null,
            "object_position": null,
            "object_fit": null,
            "grid_auto_columns": null,
            "margin": null,
            "display": null,
            "left": null
          }
        },
        "50742f8150ac40ba9db1f81e5a8466a9": {
          "model_module": "@jupyter-widgets/controls",
          "model_name": "DescriptionStyleModel",
          "state": {
            "_view_name": "StyleView",
            "_model_name": "DescriptionStyleModel",
            "description_width": "",
            "_view_module": "@jupyter-widgets/base",
            "_model_module_version": "1.5.0",
            "_view_count": null,
            "_view_module_version": "1.2.0",
            "_model_module": "@jupyter-widgets/controls"
          }
        },
        "bfea623d9e56444c8cc273032925871d": {
          "model_module": "@jupyter-widgets/base",
          "model_name": "LayoutModel",
          "state": {
            "_view_name": "LayoutView",
            "grid_template_rows": null,
            "right": null,
            "justify_content": null,
            "_view_module": "@jupyter-widgets/base",
            "overflow": null,
            "_model_module_version": "1.2.0",
            "_view_count": null,
            "flex_flow": null,
            "width": null,
            "min_width": null,
            "border": null,
            "align_items": null,
            "bottom": null,
            "_model_module": "@jupyter-widgets/base",
            "top": null,
            "grid_column": null,
            "overflow_y": null,
            "overflow_x": null,
            "grid_auto_flow": null,
            "grid_area": null,
            "grid_template_columns": null,
            "flex": null,
            "_model_name": "LayoutModel",
            "justify_items": null,
            "grid_row": null,
            "max_height": null,
            "align_content": null,
            "visibility": null,
            "align_self": null,
            "height": null,
            "min_height": null,
            "padding": null,
            "grid_auto_rows": null,
            "grid_gap": null,
            "max_width": null,
            "order": null,
            "_view_module_version": "1.2.0",
            "grid_template_areas": null,
            "object_position": null,
            "object_fit": null,
            "grid_auto_columns": null,
            "margin": null,
            "display": null,
            "left": null
          }
        },
        "8753e6e907fb4a4094488c3763ea46d0": {
          "model_module": "@jupyter-widgets/controls",
          "model_name": "HBoxModel",
          "state": {
            "_view_name": "HBoxView",
            "_dom_classes": [],
            "_model_name": "HBoxModel",
            "_view_module": "@jupyter-widgets/controls",
            "_model_module_version": "1.5.0",
            "_view_count": null,
            "_view_module_version": "1.5.0",
            "box_style": "",
            "layout": "IPY_MODEL_2f0578e1a0e245948e9d9d4d560150d9",
            "_model_module": "@jupyter-widgets/controls",
            "children": [
              "IPY_MODEL_94b26643648a493ea86621326b02002e",
              "IPY_MODEL_58354d6dd5e74d6688609247a2abbc21"
            ]
          }
        },
        "2f0578e1a0e245948e9d9d4d560150d9": {
          "model_module": "@jupyter-widgets/base",
          "model_name": "LayoutModel",
          "state": {
            "_view_name": "LayoutView",
            "grid_template_rows": null,
            "right": null,
            "justify_content": null,
            "_view_module": "@jupyter-widgets/base",
            "overflow": null,
            "_model_module_version": "1.2.0",
            "_view_count": null,
            "flex_flow": null,
            "width": null,
            "min_width": null,
            "border": null,
            "align_items": null,
            "bottom": null,
            "_model_module": "@jupyter-widgets/base",
            "top": null,
            "grid_column": null,
            "overflow_y": null,
            "overflow_x": null,
            "grid_auto_flow": null,
            "grid_area": null,
            "grid_template_columns": null,
            "flex": null,
            "_model_name": "LayoutModel",
            "justify_items": null,
            "grid_row": null,
            "max_height": null,
            "align_content": null,
            "visibility": null,
            "align_self": null,
            "height": null,
            "min_height": null,
            "padding": null,
            "grid_auto_rows": null,
            "grid_gap": null,
            "max_width": null,
            "order": null,
            "_view_module_version": "1.2.0",
            "grid_template_areas": null,
            "object_position": null,
            "object_fit": null,
            "grid_auto_columns": null,
            "margin": null,
            "display": null,
            "left": null
          }
        },
        "94b26643648a493ea86621326b02002e": {
          "model_module": "@jupyter-widgets/controls",
          "model_name": "FloatProgressModel",
          "state": {
            "_view_name": "ProgressView",
            "style": "IPY_MODEL_1d99d49088734fa9a1cb04aa6537361a",
            "_dom_classes": [],
            "description": "",
            "_model_name": "FloatProgressModel",
            "bar_style": "success",
            "max": 1,
            "_view_module": "@jupyter-widgets/controls",
            "_model_module_version": "1.5.0",
            "value": 1,
            "_view_count": null,
            "_view_module_version": "1.5.0",
            "orientation": "horizontal",
            "min": 0,
            "description_tooltip": null,
            "_model_module": "@jupyter-widgets/controls",
            "layout": "IPY_MODEL_8e021f375f0d4b1d896957342e3c6ee5"
          }
        },
        "58354d6dd5e74d6688609247a2abbc21": {
          "model_module": "@jupyter-widgets/controls",
          "model_name": "HTMLModel",
          "state": {
            "_view_name": "HTMLView",
            "style": "IPY_MODEL_278b028dbb0c4193b01f258c9f5f0f14",
            "_dom_classes": [],
            "description": "",
            "_model_name": "HTMLModel",
            "placeholder": "​",
            "_view_module": "@jupyter-widgets/controls",
            "_model_module_version": "1.5.0",
            "value": " 8192/? [00:03&lt;00:00, 2528.24it/s]",
            "_view_count": null,
            "_view_module_version": "1.5.0",
            "description_tooltip": null,
            "_model_module": "@jupyter-widgets/controls",
            "layout": "IPY_MODEL_b505ee0f136a46a691c0d91fd1592e22"
          }
        },
        "1d99d49088734fa9a1cb04aa6537361a": {
          "model_module": "@jupyter-widgets/controls",
          "model_name": "ProgressStyleModel",
          "state": {
            "_view_name": "StyleView",
            "_model_name": "ProgressStyleModel",
            "description_width": "initial",
            "_view_module": "@jupyter-widgets/base",
            "_model_module_version": "1.5.0",
            "_view_count": null,
            "_view_module_version": "1.2.0",
            "bar_color": null,
            "_model_module": "@jupyter-widgets/controls"
          }
        },
        "8e021f375f0d4b1d896957342e3c6ee5": {
          "model_module": "@jupyter-widgets/base",
          "model_name": "LayoutModel",
          "state": {
            "_view_name": "LayoutView",
            "grid_template_rows": null,
            "right": null,
            "justify_content": null,
            "_view_module": "@jupyter-widgets/base",
            "overflow": null,
            "_model_module_version": "1.2.0",
            "_view_count": null,
            "flex_flow": null,
            "width": null,
            "min_width": null,
            "border": null,
            "align_items": null,
            "bottom": null,
            "_model_module": "@jupyter-widgets/base",
            "top": null,
            "grid_column": null,
            "overflow_y": null,
            "overflow_x": null,
            "grid_auto_flow": null,
            "grid_area": null,
            "grid_template_columns": null,
            "flex": null,
            "_model_name": "LayoutModel",
            "justify_items": null,
            "grid_row": null,
            "max_height": null,
            "align_content": null,
            "visibility": null,
            "align_self": null,
            "height": null,
            "min_height": null,
            "padding": null,
            "grid_auto_rows": null,
            "grid_gap": null,
            "max_width": null,
            "order": null,
            "_view_module_version": "1.2.0",
            "grid_template_areas": null,
            "object_position": null,
            "object_fit": null,
            "grid_auto_columns": null,
            "margin": null,
            "display": null,
            "left": null
          }
        },
        "278b028dbb0c4193b01f258c9f5f0f14": {
          "model_module": "@jupyter-widgets/controls",
          "model_name": "DescriptionStyleModel",
          "state": {
            "_view_name": "StyleView",
            "_model_name": "DescriptionStyleModel",
            "description_width": "",
            "_view_module": "@jupyter-widgets/base",
            "_model_module_version": "1.5.0",
            "_view_count": null,
            "_view_module_version": "1.2.0",
            "_model_module": "@jupyter-widgets/controls"
          }
        },
        "b505ee0f136a46a691c0d91fd1592e22": {
          "model_module": "@jupyter-widgets/base",
          "model_name": "LayoutModel",
          "state": {
            "_view_name": "LayoutView",
            "grid_template_rows": null,
            "right": null,
            "justify_content": null,
            "_view_module": "@jupyter-widgets/base",
            "overflow": null,
            "_model_module_version": "1.2.0",
            "_view_count": null,
            "flex_flow": null,
            "width": null,
            "min_width": null,
            "border": null,
            "align_items": null,
            "bottom": null,
            "_model_module": "@jupyter-widgets/base",
            "top": null,
            "grid_column": null,
            "overflow_y": null,
            "overflow_x": null,
            "grid_auto_flow": null,
            "grid_area": null,
            "grid_template_columns": null,
            "flex": null,
            "_model_name": "LayoutModel",
            "justify_items": null,
            "grid_row": null,
            "max_height": null,
            "align_content": null,
            "visibility": null,
            "align_self": null,
            "height": null,
            "min_height": null,
            "padding": null,
            "grid_auto_rows": null,
            "grid_gap": null,
            "max_width": null,
            "order": null,
            "_view_module_version": "1.2.0",
            "grid_template_areas": null,
            "object_position": null,
            "object_fit": null,
            "grid_auto_columns": null,
            "margin": null,
            "display": null,
            "left": null
          }
        }
      }
    }
  },
  "cells": [
    {
      "cell_type": "code",
      "metadata": {
        "id": "j4BNOnZe46CQ",
        "colab": {
          "base_uri": "https://localhost:8080/"
        },
        "outputId": "83147499-5ef5-44c0-c96f-fc101f5083fc"
      },
      "source": [
        "import torch\n",
        "import torchvision\n",
        "\n",
        "n_epochs = 20\n",
        "batch_size_train = 200\n",
        "batch_size_test = 1000\n",
        "log_interval = 100\n",
        "\n",
        "random_seed = 1\n",
        "torch.backends.cudnn.enabled = False\n",
        "torch.manual_seed(random_seed)\n",
        "\n",
        "#from google.colab import drive\n",
        "#drive.mount('/content/drive')\n",
        "\n",
        "# Checking GPU availability\n",
        "device = torch.device(\"cuda:0\" if torch.cuda.is_available() else \"cpu\")\n",
        "print(device)\n"
      ],
      "execution_count": 1,
      "outputs": [
        {
          "output_type": "stream",
          "text": [
            "cuda:0\n"
          ],
          "name": "stdout"
        }
      ]
    },
    {
      "cell_type": "code",
      "metadata": {
        "id": "Y2uiYpfC4_aW",
        "colab": {
          "base_uri": "https://localhost:8080/",
          "height": 389,
          "referenced_widgets": [
            "f95e04fd91cd4b50b12659fee4270e49",
            "10fd8fa8525b4acdb36b3c59c352aa6a",
            "7e5ab8c430bf4288a23fb5e1e6fe908a",
            "2ea2472daaa54205a565a58ae9e46856",
            "639a04dd60c94f6f994424fef40f5374",
            "ffbb0ef3720b460c8679dd631dcc5646",
            "f439b770e4cd42b3919dc36e1bdfe4b2",
            "13466e9b1e3249acb26d9afce4141171",
            "8502f10b1a1548d8a199bf78176b816b",
            "96a56e432384460486e4536e113226a3",
            "fc812703337f4b3da9b1469edbc33afc",
            "0bb1e073c0aa4ffca00a3c52d80a29af",
            "166a3f45168a423e96c702cccbb08a87",
            "43f5548a951c41a7beb74c8a8a9cc898",
            "8f37d61f223c41d1baa33333174f5645",
            "ddfeb7f6c94843c8bb273d8d0ca2bb2e",
            "2b31b21df2ce433e9ce91de024fea9ae",
            "0f134d1f4025443ead0b18c4d8f667b5",
            "a73ecfd8e7d74f1aa586c79f783d9850",
            "b15cdbf71e9948e48e4f92dead1e152c",
            "08d36409c0994a6095b7594b2af01803",
            "79b069f4053a47e58c2d8c162a735bc6",
            "50742f8150ac40ba9db1f81e5a8466a9",
            "bfea623d9e56444c8cc273032925871d",
            "8753e6e907fb4a4094488c3763ea46d0",
            "2f0578e1a0e245948e9d9d4d560150d9",
            "94b26643648a493ea86621326b02002e",
            "58354d6dd5e74d6688609247a2abbc21",
            "1d99d49088734fa9a1cb04aa6537361a",
            "8e021f375f0d4b1d896957342e3c6ee5",
            "278b028dbb0c4193b01f258c9f5f0f14",
            "b505ee0f136a46a691c0d91fd1592e22"
          ]
        },
        "outputId": "ef2b1199-0432-466d-829c-952bf54a9bae"
      },
      "source": [
        "from torch.utils.data import random_split\n",
        "\n",
        "\n",
        "MNIST_training = torchvision.datasets.MNIST('/MNIST_dataset/', train=True, download=True,\n",
        "                             transform=torchvision.transforms.Compose([\n",
        "                               torchvision.transforms.Pad(padding=2),\n",
        "                               torchvision.transforms.ToTensor(),\n",
        "                               torchvision.transforms.Normalize((0.1307,), (0.3081,))]))\n",
        "\n",
        "MNIST_test_set = torchvision.datasets.MNIST('/MNIST_dataset/', train=False, download=True,\n",
        "                             transform=torchvision.transforms.Compose([\n",
        "                               torchvision.transforms.Pad(padding=2),\n",
        "                               torchvision.transforms.ToTensor(),\n",
        "                               torchvision.transforms.Normalize((0.1307,), (0.3081,))]))\n",
        "\n",
        "# create a training and a validation set\n",
        "MNIST_training_set, MNIST_validation_set = random_split(MNIST_training, [55000, 5000])\n",
        "\n",
        "\n",
        "train_loader = torch.utils.data.DataLoader(MNIST_training_set,batch_size=batch_size_train, shuffle=True)\n",
        "\n",
        "validation_loader = torch.utils.data.DataLoader(MNIST_validation_set,batch_size=batch_size_train, shuffle=True)\n",
        "\n",
        "test_loader = torch.utils.data.DataLoader(MNIST_test_set,batch_size=batch_size_test, shuffle=True)"
      ],
      "execution_count": 2,
      "outputs": [
        {
          "output_type": "stream",
          "text": [
            "Downloading http://yann.lecun.com/exdb/mnist/train-images-idx3-ubyte.gz to /MNIST_dataset/MNIST/raw/train-images-idx3-ubyte.gz\n"
          ],
          "name": "stdout"
        },
        {
          "output_type": "display_data",
          "data": {
            "application/vnd.jupyter.widget-view+json": {
              "model_id": "f95e04fd91cd4b50b12659fee4270e49",
              "version_minor": 0,
              "version_major": 2
            },
            "text/plain": [
              "HBox(children=(FloatProgress(value=1.0, bar_style='info', max=1.0), HTML(value='')))"
            ]
          },
          "metadata": {
            "tags": []
          }
        },
        {
          "output_type": "stream",
          "text": [
            "Extracting /MNIST_dataset/MNIST/raw/train-images-idx3-ubyte.gz to /MNIST_dataset/MNIST/raw\n",
            "Downloading http://yann.lecun.com/exdb/mnist/train-labels-idx1-ubyte.gz to /MNIST_dataset/MNIST/raw/train-labels-idx1-ubyte.gz\n"
          ],
          "name": "stdout"
        },
        {
          "output_type": "display_data",
          "data": {
            "application/vnd.jupyter.widget-view+json": {
              "model_id": "8502f10b1a1548d8a199bf78176b816b",
              "version_minor": 0,
              "version_major": 2
            },
            "text/plain": [
              "HBox(children=(FloatProgress(value=1.0, bar_style='info', max=1.0), HTML(value='')))"
            ]
          },
          "metadata": {
            "tags": []
          }
        },
        {
          "output_type": "stream",
          "text": [
            "Extracting /MNIST_dataset/MNIST/raw/train-labels-idx1-ubyte.gz to /MNIST_dataset/MNIST/raw\n",
            "Downloading http://yann.lecun.com/exdb/mnist/t10k-images-idx3-ubyte.gz to /MNIST_dataset/MNIST/raw/t10k-images-idx3-ubyte.gz\n"
          ],
          "name": "stdout"
        },
        {
          "output_type": "display_data",
          "data": {
            "application/vnd.jupyter.widget-view+json": {
              "model_id": "2b31b21df2ce433e9ce91de024fea9ae",
              "version_minor": 0,
              "version_major": 2
            },
            "text/plain": [
              "HBox(children=(FloatProgress(value=1.0, bar_style='info', max=1.0), HTML(value='')))"
            ]
          },
          "metadata": {
            "tags": []
          }
        },
        {
          "output_type": "stream",
          "text": [
            "Extracting /MNIST_dataset/MNIST/raw/t10k-images-idx3-ubyte.gz to /MNIST_dataset/MNIST/raw\n",
            "Downloading http://yann.lecun.com/exdb/mnist/t10k-labels-idx1-ubyte.gz to /MNIST_dataset/MNIST/raw/t10k-labels-idx1-ubyte.gz\n"
          ],
          "name": "stdout"
        },
        {
          "output_type": "display_data",
          "data": {
            "application/vnd.jupyter.widget-view+json": {
              "model_id": "8753e6e907fb4a4094488c3763ea46d0",
              "version_minor": 0,
              "version_major": 2
            },
            "text/plain": [
              "HBox(children=(FloatProgress(value=1.0, bar_style='info', max=1.0), HTML(value='')))"
            ]
          },
          "metadata": {
            "tags": []
          }
        },
        {
          "output_type": "stream",
          "text": [
            "Extracting /MNIST_dataset/MNIST/raw/t10k-labels-idx1-ubyte.gz to /MNIST_dataset/MNIST/raw\n",
            "Processing...\n",
            "Done!\n"
          ],
          "name": "stdout"
        },
        {
          "output_type": "stream",
          "text": [
            "/usr/local/lib/python3.6/dist-packages/torchvision/datasets/mnist.py:480: UserWarning: The given NumPy array is not writeable, and PyTorch does not support non-writeable tensors. This means you can write to the underlying (supposedly non-writeable) NumPy array using the tensor. You may want to copy the array to protect its data or make it writeable before converting it to a tensor. This type of warning will be suppressed for the rest of this program. (Triggered internally at  /pytorch/torch/csrc/utils/tensor_numpy.cpp:141.)\n",
            "  return torch.from_numpy(parsed.astype(m[2], copy=False)).view(*s)\n"
          ],
          "name": "stderr"
        }
      ]
    },
    {
      "cell_type": "code",
      "metadata": {
        "id": "PSq8BOG85GyN",
        "colab": {
          "base_uri": "https://localhost:8080/"
        },
        "outputId": "73999ebe-4d86-4b22-c3d0-73a2a361a121"
      },
      "source": [
        "examples = enumerate(test_loader)\n",
        "batch_idx, (example_data, example_targets) = next(examples)\n",
        "example_data.shape"
      ],
      "execution_count": 3,
      "outputs": [
        {
          "output_type": "stream",
          "text": [
            "\n",
            "\n"
          ],
          "name": "stdout"
        },
        {
          "output_type": "execute_result",
          "data": {
            "text/plain": [
              "torch.Size([1000, 1, 32, 32])"
            ]
          },
          "metadata": {
            "tags": []
          },
          "execution_count": 3
        }
      ]
    },
    {
      "cell_type": "code",
      "metadata": {
        "id": "g1hgLmOT5KsW",
        "colab": {
          "base_uri": "https://localhost:8080/",
          "height": 284
        },
        "outputId": "1f9ba0a6-d973-4ab7-813e-a060aaf2ca60"
      },
      "source": [
        "import matplotlib.pyplot as plt\n",
        "\n",
        "fig = plt.figure()\n",
        "for i in range(6):\n",
        "  plt.subplot(2,3,i+1)\n",
        "  plt.tight_layout()\n",
        "  plt.imshow(example_data[i][0], cmap='gray', interpolation='none')\n",
        "  plt.title(\"Ground Truth: {}\".format(example_targets[i]))\n",
        "  plt.xticks([])\n",
        "  plt.yticks([])"
      ],
      "execution_count": 5,
      "outputs": [
        {
          "output_type": "display_data",
          "data": {
            "image/png": "[encoded data removed]",
            "text/plain": [
              "<Figure size 432x288 with 6 Axes>"
            ]
          },
          "metadata": {
            "tags": []
          }
        }
      ]
    },
    {
      "cell_type": "code",
      "metadata": {
        "id": "aM32G_zp52dY"
      },
      "source": [
        "import torch.nn as nn\n",
        "import torch.nn.functional as F\n",
        "import torch.optim as optim\n"
      ],
      "execution_count": 6,
      "outputs": []
    },
    {
      "cell_type": "code",
      "metadata": {
        "id": "cd1MU6Yh56HF"
      },
      "source": [
        "class Net(nn.Module):\n",
        "    def __init__(self):\n",
        "        super(Net, self).__init__()\n",
        "        self.conv1 = nn.Conv2d(1, 6, kernel_size=5)\n",
        "        self.conv2 = nn.Conv2d(6, 16, kernel_size=5)\n",
        "        self.fc1 = nn.Linear(400, 120)\n",
        "        self.fc2 = nn.Linear(120, 84)\n",
        "        self.fc3 = nn.Linear(84, 10)\n",
        "\n",
        "    def forward(self, x):\n",
        "        x = F.relu(self.conv1(x))\n",
        "        x = F.max_pool2d(x, kernel_size=2, stride=2)\n",
        "        x = F.relu(self.conv2(x))\n",
        "        x = F.max_pool2d(x, kernel_size=2, stride=2)\n",
        "        x = x.view(x.size(0), -1)\n",
        "        x = F.relu(self.fc1(x))\n",
        "        x = F.relu(self.fc2(x))\n",
        "        x = self.fc3(x)\n",
        "        return F.softmax(x)            "
      ],
      "execution_count": 7,
      "outputs": []
    },
    {
      "cell_type": "code",
      "metadata": {
        "id": "_hjjozQl6ARg"
      },
      "source": [
        "# Estimate gradient of classification accuracy by Evolutionary Strategies (https://arxiv.org/abs/1703.03864)\n",
        "# classification accuracy is not differentiable becuase \"==\" is not differentiable by pytorch\n",
        "\n",
        "# this version uses a for loop\n",
        "def ESgrad_(yp, target, sig):\n",
        "  nSample = 200\n",
        "  grad = torch.zeros(yp.size()).to(device)\n",
        "  for i in range(nSample):\n",
        "    eta = torch.randn(yp.size()).to(device)\n",
        "    # use mirrorred samples, i.e., both eta and -eta\n",
        "    new_yp = yp+sig*eta\n",
        "    pind = new_yp.data.max(1, keepdim=True)[1]\n",
        "    correct = pind.eq(target.data.view_as(pind)).float()\n",
        "    grad += correct * eta\n",
        "    new_yp = yp-sig*eta\n",
        "    pind = new_yp.data.max(1, keepdim=True)[1]\n",
        "    correct = pind.eq(target.data.view_as(pind)).float()\n",
        "    grad += -correct * eta\n",
        "  return -grad/(2*nSample*sig)  # notice the negative sign, becuase accuracy needs to be maximized, not minimized\n",
        "\n",
        "# this version is vectorized, does not use any for loop\n",
        "def ESgrad(yp, target, sig):\n",
        "  nSample = 200\n",
        "  eta = torch.randn((yp.size()[0],yp.size()[1],nSample)).to(device)\n",
        "  eta = torch.cat((eta,-eta),2) # use mirrorred samples, i.e., both eta and -eta\n",
        "  yp_ = yp.unsqueeze(2)\n",
        "  target_ = target.unsqueeze(1).unsqueeze(2)\n",
        "  new_yp = yp_+sig*eta\n",
        "  pind = new_yp.max(1, keepdim=True)[1]\n",
        "  correct = ((pind - target_) == 0).float()\n",
        "  grad = torch.sum(correct * eta, 2)\n",
        "  return -grad/(2*nSample*sig)  # notice the negative sign, becuase accuracy needs to be maximized, not minimized"
      ],
      "execution_count": 8,
      "outputs": []
    },
    {
      "cell_type": "code",
      "metadata": {
        "id": "Cy8SKSrG6KxV"
      },
      "source": [
        "import numpy as np\n",
        "from torch.autograd import Variable\n",
        "\n",
        "def train(epoch, sig0):\n",
        "  network.train()\n",
        "  for batch_idx, (data, target) in enumerate(train_loader):\n",
        "    data = data.to(device)\n",
        "    target = target.to(device)\n",
        "    optimizer.zero_grad()\n",
        "    output = network(data)\n",
        "    AccuracyGrad = ESgrad(output,target, sig0*(1.0/(1.+np.log(epoch)))) # approximate gradients by ES\n",
        "    output.backward(AccuracyGrad) # apply ES esitated grdaients in backprop\n",
        "    optimizer.step()\n",
        "    if batch_idx % log_interval == 0:\n",
        "      pind = output.data.max(1, keepdim=True)[1]\n",
        "      accuracy = 100.0*pind.eq(target.data.view_as(pind)).sum().float()/len(data)\n",
        "      print('Train Epoch: {} [{}/{} ({:.0f}%)]\\tAccuracy: {:.2f}'.format(\n",
        "        epoch, batch_idx * len(data), len(train_loader.dataset),\n",
        "        100. * batch_idx / len(train_loader), accuracy))\n",
        "      torch.save(network.state_dict(), 'MNIST_LeNet_ES_model.pth')\n",
        "      torch.save(optimizer.state_dict(), 'MNIST_LeNet_ES_optimizer.pth')"
      ],
      "execution_count": 9,
      "outputs": []
    },
    {
      "cell_type": "code",
      "metadata": {
        "id": "Tr4Bd0BI6P7D"
      },
      "source": [
        "def validation():\n",
        "  network.eval()\n",
        "  correct = 0\n",
        "  with torch.no_grad():\n",
        "    for data, target in validation_loader:\n",
        "      data = data.to(device)\n",
        "      target = target.to(device)\n",
        "      output = network(data)\n",
        "      #print(output)\n",
        "      pred = output.data.max(1, keepdim=True)[1]\n",
        "      correct += pred.eq(target.data.view_as(pred)).sum()\n",
        "  print('\\nValidation set accuracy: {}/{} ({:.2f}%)\\n'.format(\n",
        "    correct, len(validation_loader.dataset),\n",
        "    100. * correct.float() / len(validation_loader.dataset)))"
      ],
      "execution_count": 10,
      "outputs": []
    },
    {
      "cell_type": "code",
      "metadata": {
        "id": "xi7288T3U8Tx"
      },
      "source": [
        "def test():\n",
        "  network.eval()\n",
        "  correct = 0\n",
        "  with torch.no_grad():\n",
        "    for data, target in test_loader:\n",
        "      data = data.to(device)\n",
        "      target = target.to(device)\n",
        "      output = network(data)\n",
        "      pred = output.data.max(1, keepdim=True)[1]\n",
        "      correct += pred.eq(target.data.view_as(pred)).sum()\n",
        "  print('\\nTest set accuracy: {}/{} ({:.2f}%)\\n'.format(\n",
        "    correct, len(test_loader.dataset),\n",
        "    100. * correct.float() / len(test_loader.dataset)))"
      ],
      "execution_count": 11,
      "outputs": []
    },
    {
      "cell_type": "code",
      "metadata": {
        "id": "qRG7c7Sy6XOs",
        "colab": {
          "base_uri": "https://localhost:8080/"
        },
        "outputId": "a5136c4e-7f9b-457c-b2bf-40e157bbb6b3"
      },
      "source": [
        "learning_rate = 0.0005 # use 0.0005 with Adam\n",
        "sig0 = 1.0\n",
        "network = Net()\n",
        "network = network.to(device)\n",
        "    \n",
        "#optimizer = optim.SGD(network.parameters(), lr=learning_rate, momentum=0.5, nesterov=True)\n",
        "optimizer = optim.Adam(network.parameters(), lr=learning_rate)\n",
        "\n",
        "validation()\n",
        "for epoch in range(1, n_epochs + 1):\n",
        "  train(epoch, sig0)\n",
        "  validation()\n",
        "test()\n",
        "torch.cuda.empty_cache()"
      ],
      "execution_count": 12,
      "outputs": [
        {
          "output_type": "stream",
          "text": [
            "/usr/local/lib/python3.6/dist-packages/ipykernel_launcher.py:19: UserWarning: Implicit dimension choice for softmax has been deprecated. Change the call to include dim=X as an argument.\n"
          ],
          "name": "stderr"
        },
        {
          "output_type": "stream",
          "text": [
            "\n",
            "Validation set accuracy: 322/5000 (6.44%)\n",
            "\n",
            "Train Epoch: 1 [0/55000 (0%)]\tAccuracy: 3.00\n",
            "Train Epoch: 1 [20000/55000 (36%)]\tAccuracy: 50.50\n",
            "Train Epoch: 1 [40000/55000 (73%)]\tAccuracy: 52.00\n",
            "\n",
            "Validation set accuracy: 2939/5000 (58.78%)\n",
            "\n",
            "Train Epoch: 2 [0/55000 (0%)]\tAccuracy: 56.50\n",
            "Train Epoch: 2 [20000/55000 (36%)]\tAccuracy: 72.00\n",
            "Train Epoch: 2 [40000/55000 (73%)]\tAccuracy: 85.00\n",
            "\n",
            "Validation set accuracy: 4297/5000 (85.94%)\n",
            "\n",
            "Train Epoch: 3 [0/55000 (0%)]\tAccuracy: 89.00\n",
            "Train Epoch: 3 [20000/55000 (36%)]\tAccuracy: 87.00\n",
            "Train Epoch: 3 [40000/55000 (73%)]\tAccuracy: 85.50\n",
            "\n",
            "Validation set accuracy: 4368/5000 (87.36%)\n",
            "\n",
            "Train Epoch: 4 [0/55000 (0%)]\tAccuracy: 85.00\n",
            "Train Epoch: 4 [20000/55000 (36%)]\tAccuracy: 87.50\n",
            "Train Epoch: 4 [40000/55000 (73%)]\tAccuracy: 89.00\n",
            "\n",
            "Validation set accuracy: 4384/5000 (87.68%)\n",
            "\n",
            "Train Epoch: 5 [0/55000 (0%)]\tAccuracy: 90.00\n",
            "Train Epoch: 5 [20000/55000 (36%)]\tAccuracy: 90.50\n",
            "Train Epoch: 5 [40000/55000 (73%)]\tAccuracy: 88.00\n",
            "\n",
            "Validation set accuracy: 4375/5000 (87.50%)\n",
            "\n",
            "Train Epoch: 6 [0/55000 (0%)]\tAccuracy: 90.50\n",
            "Train Epoch: 6 [20000/55000 (36%)]\tAccuracy: 90.00\n",
            "Train Epoch: 6 [40000/55000 (73%)]\tAccuracy: 89.00\n",
            "\n",
            "Validation set accuracy: 4388/5000 (87.76%)\n",
            "\n",
            "Train Epoch: 7 [0/55000 (0%)]\tAccuracy: 92.00\n",
            "Train Epoch: 7 [20000/55000 (36%)]\tAccuracy: 89.50\n",
            "Train Epoch: 7 [40000/55000 (73%)]\tAccuracy: 92.50\n",
            "\n",
            "Validation set accuracy: 4849/5000 (96.98%)\n",
            "\n",
            "Train Epoch: 8 [0/55000 (0%)]\tAccuracy: 98.50\n",
            "Train Epoch: 8 [20000/55000 (36%)]\tAccuracy: 99.50\n",
            "Train Epoch: 8 [40000/55000 (73%)]\tAccuracy: 97.00\n",
            "\n",
            "Validation set accuracy: 4861/5000 (97.22%)\n",
            "\n",
            "Train Epoch: 9 [0/55000 (0%)]\tAccuracy: 97.50\n",
            "Train Epoch: 9 [20000/55000 (36%)]\tAccuracy: 98.50\n",
            "Train Epoch: 9 [40000/55000 (73%)]\tAccuracy: 95.50\n",
            "\n",
            "Validation set accuracy: 4885/5000 (97.70%)\n",
            "\n",
            "Train Epoch: 10 [0/55000 (0%)]\tAccuracy: 97.50\n",
            "Train Epoch: 10 [20000/55000 (36%)]\tAccuracy: 99.00\n",
            "Train Epoch: 10 [40000/55000 (73%)]\tAccuracy: 97.00\n",
            "\n",
            "Validation set accuracy: 4905/5000 (98.10%)\n",
            "\n",
            "Train Epoch: 11 [0/55000 (0%)]\tAccuracy: 98.00\n",
            "Train Epoch: 11 [20000/55000 (36%)]\tAccuracy: 97.00\n",
            "Train Epoch: 11 [40000/55000 (73%)]\tAccuracy: 98.00\n",
            "\n",
            "Validation set accuracy: 4905/5000 (98.10%)\n",
            "\n",
            "Train Epoch: 12 [0/55000 (0%)]\tAccuracy: 98.50\n",
            "Train Epoch: 12 [20000/55000 (36%)]\tAccuracy: 98.00\n",
            "Train Epoch: 12 [40000/55000 (73%)]\tAccuracy: 99.50\n",
            "\n",
            "Validation set accuracy: 4907/5000 (98.14%)\n",
            "\n",
            "Train Epoch: 13 [0/55000 (0%)]\tAccuracy: 98.50\n",
            "Train Epoch: 13 [20000/55000 (36%)]\tAccuracy: 99.50\n",
            "Train Epoch: 13 [40000/55000 (73%)]\tAccuracy: 98.50\n",
            "\n",
            "Validation set accuracy: 4914/5000 (98.28%)\n",
            "\n",
            "Train Epoch: 14 [0/55000 (0%)]\tAccuracy: 99.50\n",
            "Train Epoch: 14 [20000/55000 (36%)]\tAccuracy: 99.50\n",
            "Train Epoch: 14 [40000/55000 (73%)]\tAccuracy: 98.00\n",
            "\n",
            "Validation set accuracy: 4921/5000 (98.42%)\n",
            "\n",
            "Train Epoch: 15 [0/55000 (0%)]\tAccuracy: 98.00\n",
            "Train Epoch: 15 [20000/55000 (36%)]\tAccuracy: 99.50\n",
            "Train Epoch: 15 [40000/55000 (73%)]\tAccuracy: 98.50\n",
            "\n",
            "Validation set accuracy: 4911/5000 (98.22%)\n",
            "\n",
            "Train Epoch: 16 [0/55000 (0%)]\tAccuracy: 99.00\n",
            "Train Epoch: 16 [20000/55000 (36%)]\tAccuracy: 98.50\n",
            "Train Epoch: 16 [40000/55000 (73%)]\tAccuracy: 100.00\n",
            "\n",
            "Validation set accuracy: 4925/5000 (98.50%)\n",
            "\n",
            "Train Epoch: 17 [0/55000 (0%)]\tAccuracy: 98.50\n",
            "Train Epoch: 17 [20000/55000 (36%)]\tAccuracy: 98.50\n",
            "Train Epoch: 17 [40000/55000 (73%)]\tAccuracy: 99.50\n",
            "\n",
            "Validation set accuracy: 4925/5000 (98.50%)\n",
            "\n",
            "Train Epoch: 18 [0/55000 (0%)]\tAccuracy: 98.50\n",
            "Train Epoch: 18 [20000/55000 (36%)]\tAccuracy: 99.00\n",
            "Train Epoch: 18 [40000/55000 (73%)]\tAccuracy: 99.50\n",
            "\n",
            "Validation set accuracy: 4923/5000 (98.46%)\n",
            "\n",
            "Train Epoch: 19 [0/55000 (0%)]\tAccuracy: 99.00\n",
            "Train Epoch: 19 [20000/55000 (36%)]\tAccuracy: 99.00\n",
            "Train Epoch: 19 [40000/55000 (73%)]\tAccuracy: 99.00\n",
            "\n",
            "Validation set accuracy: 4933/5000 (98.66%)\n",
            "\n",
            "Train Epoch: 20 [0/55000 (0%)]\tAccuracy: 99.50\n",
            "Train Epoch: 20 [20000/55000 (36%)]\tAccuracy: 98.50\n",
            "Train Epoch: 20 [40000/55000 (73%)]\tAccuracy: 100.00\n",
            "\n",
            "Validation set accuracy: 4920/5000 (98.40%)\n",
            "\n",
            "\n",
            "Test set accuracy: 9880/10000 (98.80%)\n",
            "\n"
          ],
          "name": "stdout"
        }
      ]
    }
  ]
}