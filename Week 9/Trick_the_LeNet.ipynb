{
  "nbformat": 4,
  "nbformat_minor": 0,
  "metadata": {
    "colab": {
      "name": "Trick_the_LeNet.ipynb",
      "provenance": [],
      "collapsed_sections": []
    },
    "kernelspec": {
      "name": "python3",
      "display_name": "Python 3"
    },
    "accelerator": "GPU"
  },
  "cells": [
    {
      "cell_type": "code",
      "metadata": {
        "id": "-QFQCdE119YZ",
        "outputId": "4133bda0-038f-4404-d5c1-60bd1c703d85",
        "colab": {
          "base_uri": "https://localhost:8080/",
          "height": 36
        }
      },
      "source": [
        "import torch\n",
        "import torchvision\n",
        "\n",
        "n_epochs = 10\n",
        "batch_size_train = 128\n",
        "batch_size_test = 1000\n",
        "learning_rate = 0.01\n",
        "momentum = 0.5\n",
        "log_interval = 100\n",
        "\n",
        "random_seed = 1\n",
        "torch.backends.cudnn.enabled = False\n",
        "torch.manual_seed(random_seed)\n",
        "\n",
        "from google.colab import drive\n",
        "drive.mount('/content/drive')"
      ],
      "execution_count": 153,
      "outputs": [
        {
          "output_type": "stream",
          "text": [
            "Drive already mounted at /content/drive; to attempt to forcibly remount, call drive.mount(\"/content/drive\", force_remount=True).\n"
          ],
          "name": "stdout"
        }
      ]
    },
    {
      "cell_type": "code",
      "metadata": {
        "id": "hdG7Ny0W2TiD"
      },
      "source": [
        "test_loader = torch.utils.data.DataLoader(\n",
        "  torchvision.datasets.MNIST('/files/', train=False, download=True,\n",
        "                             transform=torchvision.transforms.Compose([\n",
        "                               torchvision.transforms.Pad(padding=2),\n",
        "                               torchvision.transforms.ToTensor(),\n",
        "                               torchvision.transforms.Normalize((0.0,), (1.0,)),\n",
        "                             ])),\n",
        "  batch_size=batch_size_test, shuffle=False)"
      ],
      "execution_count": 154,
      "outputs": []
    },
    {
      "cell_type": "code",
      "metadata": {
        "id": "L9llt56-2eRp",
        "outputId": "4510a0dd-dd52-438b-c697-c9b002254f56",
        "colab": {
          "base_uri": "https://localhost:8080/",
          "height": 36
        }
      },
      "source": [
        "examples = enumerate(test_loader)\n",
        "batch_idx, (example_data, example_targets) = next(examples)\n",
        "example_data.shape"
      ],
      "execution_count": 155,
      "outputs": [
        {
          "output_type": "execute_result",
          "data": {
            "text/plain": [
              "torch.Size([1000, 1, 32, 32])"
            ]
          },
          "metadata": {
            "tags": []
          },
          "execution_count": 155
        }
      ]
    },
    {
      "cell_type": "code",
      "metadata": {
        "id": "6kge3wEq2kcy",
        "outputId": "70fc6989-34f6-4afe-bbe3-6d712c44f76d",
        "colab": {
          "base_uri": "https://localhost:8080/",
          "height": 284
        }
      },
      "source": [
        "import matplotlib.pyplot as plt\n",
        "\n",
        "fig = plt.figure()\n",
        "for i in range(6):\n",
        "  plt.subplot(2,3,i+1)\n",
        "  plt.tight_layout()\n",
        "  plt.imshow(example_data[i][0], cmap='gray', interpolation='none')\n",
        "  plt.title(\"Ground Truth: {}\".format(example_targets[i]))\n",
        "  plt.xticks([])\n",
        "  plt.yticks([])"
      ],
      "execution_count": 156,
      "outputs": [
        {
          "output_type": "display_data",
          "data": {
            "image/png": "[encoded data removed]",
            "text/plain": [
              "<Figure size 432x288 with 6 Axes>"
            ]
          },
          "metadata": {
            "tags": []
          }
        }
      ]
    },
    {
      "cell_type": "code",
      "metadata": {
        "id": "WEZlB_h72ywl"
      },
      "source": [
        "import torch.nn as nn\n",
        "import torch.nn.functional as F\n",
        "import torch.optim as optim\n"
      ],
      "execution_count": 115,
      "outputs": []
    },
    {
      "cell_type": "code",
      "metadata": {
        "id": "5BZ5dbOU3F46"
      },
      "source": [
        "class Net(nn.Module):\n",
        "    def __init__(self):\n",
        "        super(Net, self).__init__()\n",
        "        self.conv1 = nn.Conv2d(1, 6, kernel_size=5)\n",
        "        self.conv2 = nn.Conv2d(6, 16, kernel_size=5)\n",
        "        self.fc1 = nn.Linear(400, 120)\n",
        "        self.fc2 = nn.Linear(120, 84)\n",
        "        self.fc3 = nn.Linear(84, 10)\n",
        "\n",
        "    def forward(self, x):\n",
        "        x = F.relu(self.conv1(x))\n",
        "        x = F.max_pool2d(x, kernel_size=2, stride=2)\n",
        "        x = F.relu(self.conv2(x))\n",
        "        x = F.max_pool2d(x, kernel_size=2, stride=2)\n",
        "        x = x.view(x.size(0), -1)\n",
        "        x = F.relu(self.fc1(x))\n",
        "        x = F.relu(self.fc2(x))\n",
        "        x = self.fc3(x)\n",
        "        return F.log_softmax(x)"
      ],
      "execution_count": 157,
      "outputs": []
    },
    {
      "cell_type": "code",
      "metadata": {
        "id": "JHVUbjMN3Ni8",
        "outputId": "61bef804-3d73-497b-a968-e073126742fb",
        "colab": {
          "base_uri": "https://localhost:8080/",
          "height": 36
        }
      },
      "source": [
        "network = Net()\n",
        "\n",
        "network.load_state_dict(torch.load('/content/drive/My Drive/CMPUT328_2020/Week09/Trick/model.pth'))"
      ],
      "execution_count": 158,
      "outputs": [
        {
          "output_type": "execute_result",
          "data": {
            "text/plain": [
              "<All keys matched successfully>"
            ]
          },
          "metadata": {
            "tags": []
          },
          "execution_count": 158
        }
      ]
    },
    {
      "cell_type": "code",
      "metadata": {
        "id": "3HopsYsg55Dd",
        "outputId": "4dd12017-101b-4d8f-de74-c0fd2cf0e090",
        "colab": {
          "base_uri": "https://localhost:8080/",
          "height": 380
        }
      },
      "source": [
        "from torch.autograd import Variable\n",
        "\n",
        "X = Variable(torch.FloatTensor(example_data[0][0]).view((1,1,32,32)).clone(), requires_grad=True)\n",
        "\n",
        "output = network(example_data[0].view((1,1,32,32)))\n",
        "val, ind = torch.max(output, 1)\n",
        "print(\"Predicted label:\",ind.item())\n",
        "print(output)\n",
        "plt.imshow(example_data[0][0], cmap='gray', interpolation='none')"
      ],
      "execution_count": 144,
      "outputs": [
        {
          "output_type": "stream",
          "text": [
            "Predicted label: 7\n",
            "tensor([[-5.6830, -4.8573, -4.1344, -4.2341, -6.9982, -6.3431, -8.8495, -0.0746,\n",
            "         -4.6455, -4.0319]], grad_fn=<LogSoftmaxBackward>)\n"
          ],
          "name": "stdout"
        },
        {
          "output_type": "stream",
          "text": [
            "/usr/local/lib/python3.6/dist-packages/ipykernel_launcher.py:19: UserWarning: Implicit dimension choice for log_softmax has been deprecated. Change the call to include dim=X as an argument.\n"
          ],
          "name": "stderr"
        },
        {
          "output_type": "execute_result",
          "data": {
            "text/plain": [
              "<matplotlib.image.AxesImage at 0x7ffa775c0438>"
            ]
          },
          "metadata": {
            "tags": []
          },
          "execution_count": 144
        },
        {
          "output_type": "display_data",
          "data": {
            "image/png": "[encoded data removed]",
            "text/plain": [
              "<Figure size 432x288 with 1 Axes>"
            ]
          },
          "metadata": {
            "tags": [],
            "needs_background": "light"
          }
        }
      ]
    },
    {
      "cell_type": "code",
      "metadata": {
        "id": "aozzHUSi78SR",
        "outputId": "d3cc6d3b-4cfd-4c27-d76c-e232d6c7f7ba",
        "colab": {
          "base_uri": "https://localhost:8080/",
          "height": 361
        }
      },
      "source": [
        "init_val = example_data[0] # inverse of sigmoid\n",
        "X = Variable(torch.FloatTensor(init_val.view((1,1,32,32)).clone()), requires_grad=True)\n",
        "optimizer = optim.SGD([X], lr=learning_rate,momentum=momentum)\n",
        "\n",
        "for i in range(10000):\n",
        "  optimizer.zero_grad()\n",
        "  output = network(X) # keep input always between 0 and 1\n",
        "  val, ind = torch.max(output, 1)\n",
        "  if ind.item()==3:\n",
        "    break\n",
        "  if i%1000==0:\n",
        "    print(ind)\n",
        "  loss = F.nll_loss(output, torch.tensor([3]))\n",
        "  loss.backward()\n",
        "  optimizer.step()\n",
        "print(ind)\n",
        "\n",
        "plt.imshow(X.view((32,32)).detach().numpy(), cmap='gray', interpolation='none')"
      ],
      "execution_count": 159,
      "outputs": [
        {
          "output_type": "stream",
          "text": [
            "tensor([7])\n",
            "tensor([3])\n"
          ],
          "name": "stdout"
        },
        {
          "output_type": "stream",
          "text": [
            "/usr/local/lib/python3.6/dist-packages/ipykernel_launcher.py:19: UserWarning: Implicit dimension choice for log_softmax has been deprecated. Change the call to include dim=X as an argument.\n"
          ],
          "name": "stderr"
        },
        {
          "output_type": "execute_result",
          "data": {
            "text/plain": [
              "<matplotlib.image.AxesImage at 0x7ffa771a0320>"
            ]
          },
          "metadata": {
            "tags": []
          },
          "execution_count": 159
        },
        {
          "output_type": "display_data",
          "data": {
            "image/png": "[encoded data removed]",
            "text/plain": [
              "<Figure size 432x288 with 1 Axes>"
            ]
          },
          "metadata": {
            "tags": [],
            "needs_background": "light"
          }
        }
      ]
    },
    {
      "cell_type": "code",
      "metadata": {
        "id": "-B4KybV8Y4Tc",
        "outputId": "55a366d2-d6e2-4202-fe78-9d5dd4d7e369",
        "colab": {
          "base_uri": "https://localhost:8080/",
          "height": 398
        }
      },
      "source": [
        "init_val = torch.log(example_data[0][0]+1e-15)/(1.0-example_data[0][0]-1e-15) # inverse of sigmoid\n",
        "X = Variable(torch.FloatTensor(init_val.view((1,1,32,32)).clone()), requires_grad=True)\n",
        "optimizer = optim.SGD([X], lr=learning_rate,momentum=momentum)\n",
        "\n",
        "for i in range(10000):\n",
        "  optimizer.zero_grad()\n",
        "  output = network(torch.sigmoid(X)) # keep input always between 0 and 1\n",
        "  val, ind = torch.max(output, 1)\n",
        "  if ind.item()==3:\n",
        "    break\n",
        "  if i%1000==0:\n",
        "    print(ind)\n",
        "  loss = F.nll_loss(output, torch.tensor([3]))\n",
        "  loss.backward()\n",
        "  optimizer.step()\n",
        "print(ind)\n",
        "plt.imshow(torch.sigmoid(X).view((32,32)).detach().numpy(), cmap='gray', interpolation='none')"
      ],
      "execution_count": 160,
      "outputs": [
        {
          "output_type": "stream",
          "text": [
            "/usr/local/lib/python3.6/dist-packages/ipykernel_launcher.py:19: UserWarning: Implicit dimension choice for log_softmax has been deprecated. Change the call to include dim=X as an argument.\n"
          ],
          "name": "stderr"
        },
        {
          "output_type": "stream",
          "text": [
            "tensor([7])\n",
            "tensor([7])\n",
            "tensor([7])\n",
            "tensor([3])\n"
          ],
          "name": "stdout"
        },
        {
          "output_type": "execute_result",
          "data": {
            "text/plain": [
              "<matplotlib.image.AxesImage at 0x7ffa771030f0>"
            ]
          },
          "metadata": {
            "tags": []
          },
          "execution_count": 160
        },
        {
          "output_type": "display_data",
          "data": {
            "image/png": "[encoded data removed]",
            "text/plain": [
              "<Figure size 432x288 with 1 Axes>"
            ]
          },
          "metadata": {
            "tags": [],
            "needs_background": "light"
          }
        }
      ]
    },
    {
      "cell_type": "code",
      "metadata": {
        "id": "XMWIexoJ3-HJ",
        "outputId": "55b05df1-4721-40be-d778-92a3e6d40a07",
        "colab": {
          "base_uri": "https://localhost:8080/",
          "height": 623
        }
      },
      "source": [
        "init_val = torch.log(example_data[0][0]+1e-15)/(1.0-example_data[0][0]-1e-15) # inverse of sigmoid\n",
        "X = Variable(torch.FloatTensor(init_val.view((1,1,32,32)).clone()), requires_grad=True)\n",
        "optimizer = optim.SGD([X], lr=learning_rate,momentum=momentum)\n",
        "\n",
        "for i in range(20000):\n",
        "  optimizer.zero_grad()\n",
        "  output = network(torch.sigmoid(X)) # keep input always between 0 and 1\n",
        "  val, ind = torch.max(output, 1)\n",
        "  if ind.item()==3:\n",
        "    break\n",
        "  if i%1000==0:\n",
        "    print(ind)\n",
        "  loss = F.nll_loss(output, torch.tensor([3])) + 0.8*1e2*torch.mean((torch.sigmoid(X)-example_data[0].view_as(X))**2)\n",
        "  loss.backward()\n",
        "  optimizer.step()\n",
        "print(ind)\n",
        "\n",
        "plt.imshow(torch.sigmoid(X).view((32,32)).detach().numpy(), cmap='gray', interpolation='none')"
      ],
      "execution_count": 181,
      "outputs": [
        {
          "output_type": "stream",
          "text": [
            "/usr/local/lib/python3.6/dist-packages/ipykernel_launcher.py:19: UserWarning: Implicit dimension choice for log_softmax has been deprecated. Change the call to include dim=X as an argument.\n"
          ],
          "name": "stderr"
        },
        {
          "output_type": "stream",
          "text": [
            "tensor([7])\n",
            "tensor([7])\n",
            "tensor([7])\n",
            "tensor([7])\n",
            "tensor([7])\n",
            "tensor([7])\n",
            "tensor([7])\n",
            "tensor([7])\n",
            "tensor([7])\n",
            "tensor([7])\n",
            "tensor([7])\n",
            "tensor([7])\n",
            "tensor([7])\n",
            "tensor([3])\n",
            "tensor([[-3.7231, -3.0808, -2.6285, -1.1387, -5.2718, -2.9251, -6.2355, -1.1387,\n",
            "         -2.6234, -2.4775]], grad_fn=<LogSoftmaxBackward>)\n"
          ],
          "name": "stdout"
        },
        {
          "output_type": "execute_result",
          "data": {
            "text/plain": [
              "<matplotlib.image.AxesImage at 0x7ffad261c390>"
            ]
          },
          "metadata": {
            "tags": []
          },
          "execution_count": 181
        },
        {
          "output_type": "display_data",
          "data": {
            "image/png": "[encoded data removed]",
            "text/plain": [
              "<Figure size 432x288 with 1 Axes>"
            ]
          },
          "metadata": {
            "tags": [],
            "needs_background": "light"
          }
        }
      ]
    },
    {
      "cell_type": "code",
      "metadata": {
        "id": "DOlrSewp5Ja7",
        "outputId": "4385c30d-35c7-4d35-95a3-71f420416bc7",
        "colab": {
          "base_uri": "https://localhost:8080/",
          "height": 361
        }
      },
      "source": [
        "X = Variable(torch.randn((1,1,32,32)), requires_grad=True)\n",
        "optimizer = optim.SGD([X], lr=learning_rate,momentum=momentum)\n",
        "\n",
        "for i in range(10000):\n",
        "  optimizer.zero_grad()\n",
        "  output = network(X) # keep input always between 0 and 1\n",
        "  val, ind = torch.max(output, 1)\n",
        "  if ind.item()==3:\n",
        "    break\n",
        "  if i%1000==0:\n",
        "    print(ind)\n",
        "  loss = F.nll_loss(output, torch.tensor([3]))\n",
        "  loss.backward()\n",
        "  optimizer.step()\n",
        "print(ind)\n",
        "\n",
        "plt.imshow(X.view((32,32)).detach().numpy(), cmap='gray', interpolation='none')"
      ],
      "execution_count": 173,
      "outputs": [
        {
          "output_type": "stream",
          "text": [
            "tensor([5])\n",
            "tensor([3])\n"
          ],
          "name": "stdout"
        },
        {
          "output_type": "stream",
          "text": [
            "/usr/local/lib/python3.6/dist-packages/ipykernel_launcher.py:19: UserWarning: Implicit dimension choice for log_softmax has been deprecated. Change the call to include dim=X as an argument.\n"
          ],
          "name": "stderr"
        },
        {
          "output_type": "execute_result",
          "data": {
            "text/plain": [
              "<matplotlib.image.AxesImage at 0x7ffa76cb60b8>"
            ]
          },
          "metadata": {
            "tags": []
          },
          "execution_count": 173
        },
        {
          "output_type": "display_data",
          "data": {
            "image/png": "[encoded data removed]",
            "text/plain": [
              "<Figure size 432x288 with 1 Axes>"
            ]
          },
          "metadata": {
            "tags": [],
            "needs_background": "light"
          }
        }
      ]
    }
  ]
}