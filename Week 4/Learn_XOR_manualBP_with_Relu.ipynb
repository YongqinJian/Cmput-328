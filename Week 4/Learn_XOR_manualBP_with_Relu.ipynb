{
  "nbformat": 4,
  "nbformat_minor": 0,
  "metadata": {
    "colab": {
      "name": "Learn_XOR_manualBP_with_Relu.ipynb",
      "provenance": [],
      "collapsed_sections": []
    },
    "kernelspec": {
      "name": "python3",
      "display_name": "Python 3"
    },
    "accelerator": "GPU"
  },
  "cells": [
    {
      "cell_type": "code",
      "metadata": {
        "id": "B6Zcl1xDtKY3",
        "colab_type": "code",
        "colab": {}
      },
      "source": [
        "# This notebook implements a neural net to apprximate XOR function using PyTorch\n",
        "from __future__ import print_function\n",
        "import numpy as np\n",
        "import torch\n",
        "from torch.autograd import Variable"
      ],
      "execution_count": 1,
      "outputs": []
    },
    {
      "cell_type": "code",
      "metadata": {
        "id": "gfA-FfFG1792",
        "colab_type": "code",
        "colab": {
          "base_uri": "https://localhost:8080/",
          "height": 164
        },
        "outputId": "2ecf2104-dd90-445b-8f4a-4fe5bfee56be"
      },
      "source": [
        "X = torch.tensor([[1.0,0.0,0.0,1.0],[0.0,0.0,1.0,1.0]],dtype=torch.float32) \n",
        "X = torch.transpose(X,0,1) # 4x2 matrix\n",
        "Y = torch.tensor([[1.0,0.0,1.0,0.0]],dtype=torch.float32)                   \n",
        "Y = torch.transpose(Y,0,1) # 4x1 vector\n",
        "print(\"input: \", X)\n",
        "print(\"output: \", Y)\n"
      ],
      "execution_count": 3,
      "outputs": [
        {
          "output_type": "stream",
          "text": [
            "input:  tensor([[1., 0.],\n",
            "        [0., 0.],\n",
            "        [0., 1.],\n",
            "        [1., 1.]])\n",
            "output:  tensor([[1.],\n",
            "        [0.],\n",
            "        [1.],\n",
            "        [0.]])\n"
          ],
          "name": "stdout"
        }
      ]
    },
    {
      "cell_type": "code",
      "metadata": {
        "id": "gHOSWcDL1_vh",
        "colab_type": "code",
        "colab": {
          "base_uri": "https://localhost:8080/",
          "height": 1000
        },
        "outputId": "b6540fab-a763-423d-b868-b9014e8a7ccb"
      },
      "source": [
        "# parameters of neural net\n",
        "W1 = Variable(torch.torch.FloatTensor(2, 8).uniform_(-1, 1), requires_grad=True) # 2x8 matrix\n",
        "b1 = Variable(torch.zeros((1,8)), requires_grad=True)                            # 1x8 matrix\n",
        "W2 = Variable(torch.torch.FloatTensor(8, 1).uniform_(-1, 1), requires_grad=True) # 8x1 matrix\n",
        "b2 = Variable(torch.zeros([1]), requires_grad=True)                              # scalar\n",
        "\n",
        "learning_rate = 1e-2 # hyper parameter\n",
        "\n",
        "for step in range(50000):\n",
        "\n",
        "  # forward pass\n",
        "  Z1 = torch.mm(X,W1)    # 4x8 matrix\n",
        "  Z2 = Z1 + b1           # 4x8 matrix\n",
        "  Z3 = torch.relu(Z2)    # 4x8 matrix\n",
        "  Z4 = torch.mm(Z3,W2)   # 4x1 vector\n",
        "  Z5 = Z4 + b2           # 4x1 vector\n",
        "  Yp = torch.sigmoid(Z5) # 4x1 vector; Forcing the output to be between 0 and 1\n",
        "\n",
        "  # backward pass\n",
        "  dYp = Yp-Y # 4x1 vector\n",
        "  dZ5 = torch.sigmoid(Z5)*(1.0-torch.sigmoid(Z5))*dYp # 4x1 vector\n",
        "  dZ4 = dZ5  # 4x1 vector\n",
        "  dZ3 = torch.mm(dZ4,torch.transpose(W2,0,1)) # 4x8 matrix\n",
        "  dZ2 = torch.sign(Z3)*dZ3 # 4x8 matrix; if y = relu(x), then derivative of relu is sign(y)\n",
        "  dZ1 = dZ2 # 4x8 matrix\n",
        "  \n",
        "  dW1 = torch.mm(torch.transpose(X,0,1),dZ1)\n",
        "  db1 = torch.sum(dZ2,0,True)\n",
        "  dW2 = torch.mm(torch.transpose(Z3,0,1),dZ4)\n",
        "  db2 = torch.sum(dZ5)\n",
        "  \n",
        "  # adjust parameters by gradient descent\n",
        "  W1 = W1 - learning_rate*dW1\n",
        "  b1 = b1 - learning_rate*db1\n",
        "  W2 = W2 - learning_rate*dW2\n",
        "  b2 = b2 - learning_rate*db2\n",
        "  \n",
        "  if step%1000 == 0:\n",
        "    loss = torch.sum((Yp-Y)**2)\n",
        "    print(\"loss:\",loss.item())\n",
        "\n",
        "print(Yp)\n",
        "print(Y)\n",
        "\n",
        "\n"
      ],
      "execution_count": 11,
      "outputs": [
        {
          "output_type": "stream",
          "text": [
            "loss: 1.0884015560150146\n",
            "loss: 0.4088684320449829\n",
            "loss: 0.16048265993595123\n",
            "loss: 0.0790882408618927\n",
            "loss: 0.047324713319540024\n",
            "loss: 0.03204113617539406\n",
            "loss: 0.02351776324212551\n",
            "loss: 0.018234873190522194\n",
            "loss: 0.014707228168845177\n",
            "loss: 0.012215147726237774\n",
            "loss: 0.010378334671258926\n",
            "loss: 0.008977625519037247\n",
            "loss: 0.00788001250475645\n",
            "loss: 0.00700012082234025\n",
            "loss: 0.006281333044171333\n",
            "loss: 0.005684740375727415\n",
            "loss: 0.005182324908673763\n",
            "loss: 0.004754583816975355\n",
            "loss: 0.004386661108583212\n",
            "loss: 0.0040670838207006454\n",
            "loss: 0.0037872791290283203\n",
            "loss: 0.003540691453963518\n",
            "loss: 0.0033215077128261328\n",
            "loss: 0.0031258277595043182\n",
            "loss: 0.0029502147808670998\n",
            "loss: 0.002791829640045762\n",
            "loss: 0.002648192923516035\n",
            "loss: 0.002517632907256484\n",
            "loss: 0.0023983188439160585\n",
            "loss: 0.002289105672389269\n",
            "loss: 0.0021883829031139612\n",
            "loss: 0.002095692791044712\n",
            "loss: 0.002009882591664791\n",
            "loss: 0.0019303483422845602\n",
            "loss: 0.0018563944613561034\n",
            "loss: 0.001787447021342814\n",
            "loss: 0.0017231636447831988\n",
            "loss: 0.001663027098402381\n",
            "loss: 0.0016065614763647318\n",
            "loss: 0.0015535179991275072\n",
            "loss: 0.0015036959666758776\n",
            "loss: 0.0014567256439477205\n",
            "loss: 0.00141238234937191\n",
            "loss: 0.0013703369768336415\n",
            "loss: 0.0013307224726304412\n",
            "loss: 0.0012931375531479716\n",
            "loss: 0.0012575334403663874\n",
            "loss: 0.0012236268958076835\n",
            "loss: 0.0011913315393030643\n",
            "loss: 0.0011605741456151009\n",
            "tensor([[0.9851],\n",
            "        [0.0224],\n",
            "        [0.9851],\n",
            "        [0.0136]], grad_fn=<SigmoidBackward>)\n",
            "tensor([[1.],\n",
            "        [0.],\n",
            "        [1.],\n",
            "        [0.]])\n"
          ],
          "name": "stdout"
        }
      ]
    }
  ]
}