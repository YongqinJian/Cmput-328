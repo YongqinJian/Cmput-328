{
  "nbformat": 4,
  "nbformat_minor": 0,
  "metadata": {
    "colab": {
      "name": "MNIST_LeNet.ipynb",
      "provenance": [],
      "collapsed_sections": []
    },
    "kernelspec": {
      "name": "python3",
      "display_name": "Python 3"
    },
    "accelerator": "GPU"
  },
  "cells": [
    {
      "cell_type": "code",
      "metadata": {
        "id": "j4BNOnZe46CQ",
        "colab_type": "code",
        "outputId": "73f0cbb6-df7f-4624-b7b7-c0d556c60409",
        "colab": {
          "base_uri": "https://localhost:8080/",
          "height": 139
        }
      },
      "source": [
        "import torch\n",
        "import torchvision\n",
        "\n",
        "n_epochs = 10\n",
        "batch_size_train = 200\n",
        "batch_size_test = 1000\n",
        "learning_rate = 0.01\n",
        "momentum = 0.5\n",
        "log_interval = 100\n",
        "\n",
        "random_seed = 1\n",
        "torch.backends.cudnn.enabled = False\n",
        "torch.manual_seed(random_seed)\n",
        "\n",
        "from google.colab import drive\n",
        "drive.mount('/content/drive')\n",
        "\n",
        "# Checking GPU availability\n",
        "device = torch.device(\"cuda:0\" if torch.cuda.is_available() else \"cpu\")\n",
        "print(device)\n"
      ],
      "execution_count": 0,
      "outputs": [
        {
          "output_type": "stream",
          "text": [
            "Go to this URL in a browser: https://accounts.google.com/o/oauth2/auth?client_id=947318989803-6bn6qk8qdgf4n4g3pfee6491hc0brc4i.apps.googleusercontent.com&redirect_uri=urn%3Aietf%3Awg%3Aoauth%3A2.0%3Aoob&scope=email%20https%3A%2F%2Fwww.googleapis.com%2Fauth%2Fdocs.test%20https%3A%2F%2Fwww.googleapis.com%2Fauth%2Fdrive%20https%3A%2F%2Fwww.googleapis.com%2Fauth%2Fdrive.photos.readonly%20https%3A%2F%2Fwww.googleapis.com%2Fauth%2Fpeopleapi.readonly&response_type=code\n",
            "\n",
            "Enter your authorization code:\n",
            "··········\n",
            "Mounted at /content/drive\n",
            "cuda:0\n"
          ],
          "name": "stdout"
        }
      ]
    },
    {
      "cell_type": "code",
      "metadata": {
        "id": "Y2uiYpfC4_aW",
        "colab_type": "code",
        "colab": {}
      },
      "source": [
        "from torch.utils.data import random_split\n",
        "\n",
        "\n",
        "MNIST_training = torchvision.datasets.MNIST('/content/drive/My Drive/HIP2019/MNIST_dataset/', train=True, download=True,\n",
        "                             transform=torchvision.transforms.Compose([\n",
        "                               torchvision.transforms.Pad(padding=2),\n",
        "                               torchvision.transforms.ToTensor(),\n",
        "                               torchvision.transforms.Normalize((0.1307,), (0.3081,))]))\n",
        "\n",
        "MNIST_test_set = torchvision.datasets.MNIST('/content/drive/My Drive/HIP2019/MNIST_dataset/', train=False, download=True,\n",
        "                             transform=torchvision.transforms.Compose([\n",
        "                               torchvision.transforms.Pad(padding=2),\n",
        "                               torchvision.transforms.ToTensor(),\n",
        "                               torchvision.transforms.Normalize((0.1307,), (0.3081,))]))\n",
        "\n",
        "# create a training and a validation set\n",
        "MNIST_training_set, MNIST_validation_set = random_split(MNIST_training, [55000, 5000])\n",
        "\n",
        "\n",
        "train_loader = torch.utils.data.DataLoader(MNIST_training_set,batch_size=batch_size_train, shuffle=True)\n",
        "\n",
        "validation_loader = torch.utils.data.DataLoader(MNIST_validation_set,batch_size=batch_size_train, shuffle=True)\n",
        "\n",
        "test_loader = torch.utils.data.DataLoader(MNIST_test_set,batch_size=batch_size_test, shuffle=True)"
      ],
      "execution_count": 0,
      "outputs": []
    },
    {
      "cell_type": "code",
      "metadata": {
        "id": "PSq8BOG85GyN",
        "colab_type": "code",
        "outputId": "593c39c1-f2b1-4421-dcf1-ddab7d0b1078",
        "colab": {
          "base_uri": "https://localhost:8080/",
          "height": 51
        }
      },
      "source": [
        "examples = enumerate(test_loader)\n",
        "batch_idx, (example_data, example_targets) = next(examples)\n",
        "print(example_data.shape)\n",
        "print(example_targets.shape)"
      ],
      "execution_count": 0,
      "outputs": [
        {
          "output_type": "stream",
          "text": [
            "torch.Size([1000, 1, 32, 32])\n",
            "torch.Size([1000])\n"
          ],
          "name": "stdout"
        }
      ]
    },
    {
      "cell_type": "code",
      "metadata": {
        "id": "g1hgLmOT5KsW",
        "colab_type": "code",
        "outputId": "42a89f31-e7d7-4d4d-bcc4-cfae24d16f00",
        "colab": {
          "base_uri": "https://localhost:8080/",
          "height": 551
        }
      },
      "source": [
        "import matplotlib.pyplot as plt\n",
        "\n",
        "fig = plt.figure()\n",
        "for i in range(6):\n",
        "  plt.subplot(2,3,i+1)\n",
        "  plt.tight_layout()\n",
        "  plt.imshow(example_data[i][0], cmap='gray', interpolation='none')\n",
        "  plt.title(\"Ground Truth: {}\".format(example_targets[i]))\n",
        "  plt.xticks([])\n",
        "  plt.yticks([])\n",
        "fig"
      ],
      "execution_count": 0,
      "outputs": [
        {
          "output_type": "execute_result",
          "data": {
            "image/png": "[encoded data removed]",
            "text/plain": [
              "<Figure size 432x288 with 6 Axes>"
            ]
          },
          "metadata": {
            "tags": []
          },
          "execution_count": 4
        },
        {
          "output_type": "display_data",
          "data": {
            "image/png": "[encoded data removed]",
            "text/plain": [
              "<Figure size 432x288 with 6 Axes>"
            ]
          },
          "metadata": {
            "tags": []
          }
        }
      ]
    },
    {
      "cell_type": "code",
      "metadata": {
        "id": "aM32G_zp52dY",
        "colab_type": "code",
        "colab": {}
      },
      "source": [
        "import torch.nn as nn\n",
        "import torch.nn.functional as F\n",
        "import torch.optim as optim\n"
      ],
      "execution_count": 0,
      "outputs": []
    },
    {
      "cell_type": "code",
      "metadata": {
        "id": "cd1MU6Yh56HF",
        "colab_type": "code",
        "colab": {}
      },
      "source": [
        "class Net(nn.Module):\n",
        "    def __init__(self):\n",
        "        super(Net, self).__init__()\n",
        "        self.conv1 = nn.Conv2d(1, 6, kernel_size=5)\n",
        "        self.conv2 = nn.Conv2d(6, 16, kernel_size=5)\n",
        "        self.fc1 = nn.Linear(400, 120)\n",
        "        self.fc2 = nn.Linear(120, 84)\n",
        "        self.fc3 = nn.Linear(84, 10)\n",
        "\n",
        "    def forward(self, x):\n",
        "        x = F.relu(self.conv1(x))\n",
        "        x = F.max_pool2d(x, kernel_size=2, stride=2)\n",
        "        x = F.relu(self.conv2(x))\n",
        "        x = F.max_pool2d(x, kernel_size=2, stride=2)\n",
        "        x = x.view(x.size(0), -1)\n",
        "        x = F.relu(self.fc1(x))\n",
        "        x = F.relu(self.fc2(x))\n",
        "        x = self.fc3(x)\n",
        "        return F.log_softmax(x)"
      ],
      "execution_count": 0,
      "outputs": []
    },
    {
      "cell_type": "code",
      "metadata": {
        "id": "F-kvJi8g6Fpi",
        "colab_type": "code",
        "colab": {}
      },
      "source": [
        "train_losses = []\n",
        "train_counter = []\n",
        "validation_losses = []\n",
        "validation_counter = [i*len(train_loader.dataset) for i in range(n_epochs + 1)]"
      ],
      "execution_count": 0,
      "outputs": []
    },
    {
      "cell_type": "code",
      "metadata": {
        "id": "Cy8SKSrG6KxV",
        "colab_type": "code",
        "colab": {}
      },
      "source": [
        "def train(epoch):\n",
        "  network.train()\n",
        "  for batch_idx, (data, target) in enumerate(train_loader):\n",
        "    data = data.to(device)\n",
        "    target = target.to(device)\n",
        "    optimizer.zero_grad()\n",
        "    output = network(data)\n",
        "    loss = F.nll_loss(output, target)\n",
        "    loss.backward()\n",
        "    optimizer.step()\n",
        "    if batch_idx % log_interval == 0:\n",
        "      print('Train Epoch: {} [{}/{} ({:.0f}%)]\\tLoss: {:.6f}'.format(\n",
        "        epoch, batch_idx * len(data), len(train_loader.dataset),\n",
        "        100. * batch_idx / len(train_loader), loss.item()))\n",
        "      train_losses.append(loss.item())\n",
        "      train_counter.append(\n",
        "        (batch_idx*64) + ((epoch-1)*len(train_loader.dataset)))\n",
        "      torch.save(network.state_dict(), '/content/drive/My Drive/HIP2019/MNIST_LeNet_results/model.pth')\n",
        "      torch.save(optimizer.state_dict(), '/content/drive/My Drive/HIP2019/MNIST_LeNet_results/optimizer.pth')"
      ],
      "execution_count": 0,
      "outputs": []
    },
    {
      "cell_type": "code",
      "metadata": {
        "id": "Tr4Bd0BI6P7D",
        "colab_type": "code",
        "colab": {}
      },
      "source": [
        "def validation():\n",
        "  network.eval()\n",
        "  validation_loss = 0\n",
        "  correct = 0\n",
        "  with torch.no_grad():\n",
        "    for data, target in validation_loader:\n",
        "      data = data.to(device)\n",
        "      target = target.to(device)\n",
        "      output = network(data)\n",
        "      validation_loss += F.nll_loss(output, target, size_average=False).item()\n",
        "      pred = output.data.max(1, keepdim=True)[1]\n",
        "      correct += pred.eq(target.data.view_as(pred)).sum()\n",
        "  validation_loss /= len(validation_loader.dataset)\n",
        "  validation_losses.append(validation_loss)\n",
        "  print('\\nValidation set: Avg. loss: {:.4f}, Accuracy: {}/{} ({:.0f}%)\\n'.format(\n",
        "    validation_loss, correct, len(validation_loader.dataset),\n",
        "    100. * correct / len(validation_loader.dataset)))"
      ],
      "execution_count": 0,
      "outputs": []
    },
    {
      "cell_type": "code",
      "metadata": {
        "id": "xi7288T3U8Tx",
        "colab_type": "code",
        "colab": {}
      },
      "source": [
        "def test():\n",
        "  network.eval()\n",
        "  test_loss = 0\n",
        "  correct = 0\n",
        "  with torch.no_grad():\n",
        "    for data, target in test_loader:\n",
        "      data = data.to(device)\n",
        "      target = target.to(device)\n",
        "      output = network(data)\n",
        "      test_loss += F.nll_loss(output, target, size_average=False).item()\n",
        "      pred = output.data.max(1, keepdim=True)[1]\n",
        "      correct += pred.eq(target.data.view_as(pred)).sum()\n",
        "  test_loss /= len(test_loader.dataset)\n",
        "  print('\\nTest set: Avg. loss: {:.4f}, Accuracy: {}/{} ({:.0f}%)\\n'.format(\n",
        "    test_loss, correct, len(test_loader.dataset),\n",
        "    100. * correct / len(test_loader.dataset)))"
      ],
      "execution_count": 0,
      "outputs": []
    },
    {
      "cell_type": "code",
      "metadata": {
        "id": "qRG7c7Sy6XOs",
        "colab_type": "code",
        "outputId": "3ce17c18-559c-476e-c9b7-420eb4b2cf6c",
        "colab": {
          "base_uri": "https://localhost:8080/",
          "height": 1000
        }
      },
      "source": [
        "network = Net().to(device)\n",
        "optimizer = optim.SGD(network.parameters(), lr=learning_rate,\n",
        "                      momentum=momentum)\n",
        "\n",
        "validation()\n",
        "for epoch in range(1, n_epochs + 1):\n",
        "  train(epoch)\n",
        "  validation()\n",
        "test()\n",
        "torch.cuda.empty_cache()"
      ],
      "execution_count": 0,
      "outputs": [
        {
          "output_type": "stream",
          "text": [
            "/usr/local/lib/python3.6/dist-packages/ipykernel_launcher.py:19: UserWarning: Implicit dimension choice for log_softmax has been deprecated. Change the call to include dim=X as an argument.\n",
            "/usr/local/lib/python3.6/dist-packages/torch/nn/_reduction.py:46: UserWarning: size_average and reduce args will be deprecated, please use reduction='sum' instead.\n",
            "  warnings.warn(warning.format(ret))\n"
          ],
          "name": "stderr"
        },
        {
          "output_type": "stream",
          "text": [
            "\n",
            "Validation set: Avg. loss: 2.3063, Accuracy: 406/5000 (8%)\n",
            "\n",
            "Train Epoch: 1 [0/55000 (0%)]\tLoss: 2.304815\n",
            "Train Epoch: 1 [20000/55000 (36%)]\tLoss: 2.290259\n",
            "Train Epoch: 1 [40000/55000 (73%)]\tLoss: 2.268971\n",
            "\n",
            "Validation set: Avg. loss: 2.1913, Accuracy: 2711/5000 (54%)\n",
            "\n",
            "Train Epoch: 2 [0/55000 (0%)]\tLoss: 2.188427\n",
            "Train Epoch: 2 [20000/55000 (36%)]\tLoss: 0.677236\n",
            "Train Epoch: 2 [40000/55000 (73%)]\tLoss: 0.327342\n",
            "\n",
            "Validation set: Avg. loss: 0.3278, Accuracy: 4501/5000 (90%)\n",
            "\n",
            "Train Epoch: 3 [0/55000 (0%)]\tLoss: 0.280150\n",
            "Train Epoch: 3 [20000/55000 (36%)]\tLoss: 0.174515\n",
            "Train Epoch: 3 [40000/55000 (73%)]\tLoss: 0.237195\n",
            "\n",
            "Validation set: Avg. loss: 0.1893, Accuracy: 4693/5000 (93%)\n",
            "\n",
            "Train Epoch: 4 [0/55000 (0%)]\tLoss: 0.137607\n",
            "Train Epoch: 4 [20000/55000 (36%)]\tLoss: 0.153521\n",
            "Train Epoch: 4 [40000/55000 (73%)]\tLoss: 0.223039\n",
            "\n",
            "Validation set: Avg. loss: 0.1491, Accuracy: 4776/5000 (95%)\n",
            "\n",
            "Train Epoch: 5 [0/55000 (0%)]\tLoss: 0.092557\n",
            "Train Epoch: 5 [20000/55000 (36%)]\tLoss: 0.211306\n",
            "Train Epoch: 5 [40000/55000 (73%)]\tLoss: 0.095439\n",
            "\n",
            "Validation set: Avg. loss: 0.1371, Accuracy: 4780/5000 (95%)\n",
            "\n",
            "Train Epoch: 6 [0/55000 (0%)]\tLoss: 0.203248\n",
            "Train Epoch: 6 [20000/55000 (36%)]\tLoss: 0.077058\n",
            "Train Epoch: 6 [40000/55000 (73%)]\tLoss: 0.160598\n",
            "\n",
            "Validation set: Avg. loss: 0.1075, Accuracy: 4823/5000 (96%)\n",
            "\n",
            "Train Epoch: 7 [0/55000 (0%)]\tLoss: 0.145520\n",
            "Train Epoch: 7 [20000/55000 (36%)]\tLoss: 0.055076\n",
            "Train Epoch: 7 [40000/55000 (73%)]\tLoss: 0.152964\n",
            "\n",
            "Validation set: Avg. loss: 0.1025, Accuracy: 4843/5000 (96%)\n",
            "\n",
            "Train Epoch: 8 [0/55000 (0%)]\tLoss: 0.098603\n",
            "Train Epoch: 8 [20000/55000 (36%)]\tLoss: 0.133049\n",
            "Train Epoch: 8 [40000/55000 (73%)]\tLoss: 0.167449\n",
            "\n",
            "Validation set: Avg. loss: 0.0846, Accuracy: 4855/5000 (97%)\n",
            "\n",
            "Train Epoch: 9 [0/55000 (0%)]\tLoss: 0.078468\n",
            "Train Epoch: 9 [20000/55000 (36%)]\tLoss: 0.090625\n",
            "Train Epoch: 9 [40000/55000 (73%)]\tLoss: 0.071398\n",
            "\n",
            "Validation set: Avg. loss: 0.0862, Accuracy: 4859/5000 (97%)\n",
            "\n",
            "Train Epoch: 10 [0/55000 (0%)]\tLoss: 0.064281\n",
            "Train Epoch: 10 [20000/55000 (36%)]\tLoss: 0.089024\n",
            "Train Epoch: 10 [40000/55000 (73%)]\tLoss: 0.089648\n",
            "\n",
            "Validation set: Avg. loss: 0.0809, Accuracy: 4861/5000 (97%)\n",
            "\n",
            "\n",
            "Test set: Avg. loss: 0.0654, Accuracy: 9780/10000 (97%)\n",
            "\n"
          ],
          "name": "stdout"
        }
      ]
    },
    {
      "cell_type": "code",
      "metadata": {
        "id": "-oqzdCF2o-d2",
        "colab_type": "code",
        "outputId": "0ca446a3-95b0-4a43-a25e-90a4cd77b607",
        "colab": {
          "base_uri": "https://localhost:8080/",
          "height": 119
        }
      },
      "source": [
        "# load a saved model and evaluate on test set\n",
        "\n",
        "\n",
        "network = Net().to(device)\n",
        "\n",
        "network.load_state_dict(torch.load('/content/drive/My Drive/HIP2019/MNIST_LeNet_results/model.pth'))\n",
        "\n",
        "test()\n",
        "torch.cuda.empty_cache()"
      ],
      "execution_count": 0,
      "outputs": [
        {
          "output_type": "stream",
          "text": [
            "/usr/local/lib/python3.6/dist-packages/ipykernel_launcher.py:19: UserWarning: Implicit dimension choice for log_softmax has been deprecated. Change the call to include dim=X as an argument.\n",
            "/usr/local/lib/python3.6/dist-packages/torch/nn/_reduction.py:46: UserWarning: size_average and reduce args will be deprecated, please use reduction='sum' instead.\n",
            "  warnings.warn(warning.format(ret))\n"
          ],
          "name": "stderr"
        },
        {
          "output_type": "stream",
          "text": [
            "\n",
            "Test set: Avg. loss: 0.0420, Accuracy: 9848/10000 (98%)\n",
            "\n"
          ],
          "name": "stdout"
        }
      ]
    },
    {
      "cell_type": "code",
      "metadata": {
        "id": "PFrrW_QtrI3l",
        "colab_type": "code",
        "outputId": "5ad30d6a-26b4-43ef-d583-1b982e7a928d",
        "colab": {
          "base_uri": "https://localhost:8080/",
          "height": 1000
        }
      },
      "source": [
        "# load a model and resume training\n",
        "\n",
        "network = Net().to(device)\n",
        "optimizer = optim.SGD(network.parameters(), lr=learning_rate,momentum=momentum)\n",
        "\n",
        "network.load_state_dict(torch.load('/content/drive/My Drive/HIP2019/MNIST_LeNet_results/model.pth'))\n",
        "optimizer.load_state_dict(torch.load('/content/drive/My Drive/HIP2019/MNIST_LeNet_results/optimizer.pth'))\n",
        "\n",
        "validation()\n",
        "for epoch in range(1, n_epochs + 1):\n",
        "  train(epoch)\n",
        "  validation()\n",
        "test()\n",
        "torch.cuda.empty_cache()"
      ],
      "execution_count": 0,
      "outputs": [
        {
          "output_type": "stream",
          "text": [
            "/usr/local/lib/python3.6/dist-packages/ipykernel_launcher.py:19: UserWarning: Implicit dimension choice for log_softmax has been deprecated. Change the call to include dim=X as an argument.\n",
            "/usr/local/lib/python3.6/dist-packages/torch/nn/_reduction.py:46: UserWarning: size_average and reduce args will be deprecated, please use reduction='sum' instead.\n",
            "  warnings.warn(warning.format(ret))\n"
          ],
          "name": "stderr"
        },
        {
          "output_type": "stream",
          "text": [
            "\n",
            "Validation set: Avg. loss: 0.0534, Accuracy: 4913/5000 (98%)\n",
            "\n",
            "Train Epoch: 1 [0/55000 (0%)]\tLoss: 0.059633\n",
            "Train Epoch: 1 [12800/55000 (23%)]\tLoss: 0.024473\n",
            "Train Epoch: 1 [25600/55000 (47%)]\tLoss: 0.091762\n",
            "Train Epoch: 1 [38400/55000 (70%)]\tLoss: 0.048940\n",
            "Train Epoch: 1 [51200/55000 (93%)]\tLoss: 0.073472\n",
            "\n",
            "Validation set: Avg. loss: 0.0545, Accuracy: 4919/5000 (98%)\n",
            "\n",
            "Train Epoch: 2 [0/55000 (0%)]\tLoss: 0.050171\n",
            "Train Epoch: 2 [12800/55000 (23%)]\tLoss: 0.053173\n",
            "Train Epoch: 2 [25600/55000 (47%)]\tLoss: 0.014093\n",
            "Train Epoch: 2 [38400/55000 (70%)]\tLoss: 0.049234\n",
            "Train Epoch: 2 [51200/55000 (93%)]\tLoss: 0.034479\n",
            "\n",
            "Validation set: Avg. loss: 0.0557, Accuracy: 4907/5000 (98%)\n",
            "\n",
            "Train Epoch: 3 [0/55000 (0%)]\tLoss: 0.037109\n",
            "Train Epoch: 3 [12800/55000 (23%)]\tLoss: 0.014686\n",
            "Train Epoch: 3 [25600/55000 (47%)]\tLoss: 0.075705\n",
            "Train Epoch: 3 [38400/55000 (70%)]\tLoss: 0.024813\n",
            "Train Epoch: 3 [51200/55000 (93%)]\tLoss: 0.059719\n",
            "\n",
            "Validation set: Avg. loss: 0.0504, Accuracy: 4922/5000 (98%)\n",
            "\n",
            "Train Epoch: 4 [0/55000 (0%)]\tLoss: 0.010582\n",
            "Train Epoch: 4 [12800/55000 (23%)]\tLoss: 0.012016\n",
            "Train Epoch: 4 [25600/55000 (47%)]\tLoss: 0.053490\n",
            "Train Epoch: 4 [38400/55000 (70%)]\tLoss: 0.043909\n",
            "Train Epoch: 4 [51200/55000 (93%)]\tLoss: 0.023047\n",
            "\n",
            "Validation set: Avg. loss: 0.0475, Accuracy: 4927/5000 (98%)\n",
            "\n",
            "Train Epoch: 5 [0/55000 (0%)]\tLoss: 0.053286\n",
            "Train Epoch: 5 [12800/55000 (23%)]\tLoss: 0.014147\n",
            "Train Epoch: 5 [25600/55000 (47%)]\tLoss: 0.023490\n",
            "Train Epoch: 5 [38400/55000 (70%)]\tLoss: 0.030747\n",
            "Train Epoch: 5 [51200/55000 (93%)]\tLoss: 0.012758\n",
            "\n",
            "Validation set: Avg. loss: 0.0472, Accuracy: 4930/5000 (98%)\n",
            "\n",
            "Train Epoch: 6 [0/55000 (0%)]\tLoss: 0.010763\n",
            "Train Epoch: 6 [12800/55000 (23%)]\tLoss: 0.050196\n",
            "Train Epoch: 6 [25600/55000 (47%)]\tLoss: 0.020125\n",
            "Train Epoch: 6 [38400/55000 (70%)]\tLoss: 0.019365\n",
            "Train Epoch: 6 [51200/55000 (93%)]\tLoss: 0.055575\n",
            "\n",
            "Validation set: Avg. loss: 0.0493, Accuracy: 4922/5000 (98%)\n",
            "\n",
            "Train Epoch: 7 [0/55000 (0%)]\tLoss: 0.052458\n",
            "Train Epoch: 7 [12800/55000 (23%)]\tLoss: 0.040497\n",
            "Train Epoch: 7 [25600/55000 (47%)]\tLoss: 0.026543\n",
            "Train Epoch: 7 [38400/55000 (70%)]\tLoss: 0.035028\n",
            "Train Epoch: 7 [51200/55000 (93%)]\tLoss: 0.037114\n",
            "\n",
            "Validation set: Avg. loss: 0.0435, Accuracy: 4940/5000 (98%)\n",
            "\n",
            "Train Epoch: 8 [0/55000 (0%)]\tLoss: 0.017651\n",
            "Train Epoch: 8 [12800/55000 (23%)]\tLoss: 0.021958\n",
            "Train Epoch: 8 [25600/55000 (47%)]\tLoss: 0.026895\n",
            "Train Epoch: 8 [38400/55000 (70%)]\tLoss: 0.026088\n",
            "Train Epoch: 8 [51200/55000 (93%)]\tLoss: 0.025452\n",
            "\n",
            "Validation set: Avg. loss: 0.0420, Accuracy: 4939/5000 (98%)\n",
            "\n",
            "Train Epoch: 9 [0/55000 (0%)]\tLoss: 0.068423\n",
            "Train Epoch: 9 [12800/55000 (23%)]\tLoss: 0.012059\n",
            "Train Epoch: 9 [25600/55000 (47%)]\tLoss: 0.015190\n",
            "Train Epoch: 9 [38400/55000 (70%)]\tLoss: 0.010526\n",
            "Train Epoch: 9 [51200/55000 (93%)]\tLoss: 0.021317\n",
            "\n",
            "Validation set: Avg. loss: 0.0464, Accuracy: 4927/5000 (98%)\n",
            "\n",
            "Train Epoch: 10 [0/55000 (0%)]\tLoss: 0.075792\n",
            "Train Epoch: 10 [12800/55000 (23%)]\tLoss: 0.052231\n",
            "Train Epoch: 10 [25600/55000 (47%)]\tLoss: 0.120166\n",
            "Train Epoch: 10 [38400/55000 (70%)]\tLoss: 0.004326\n",
            "Train Epoch: 10 [51200/55000 (93%)]\tLoss: 0.012211\n",
            "\n",
            "Validation set: Avg. loss: 0.0442, Accuracy: 4929/5000 (98%)\n",
            "\n",
            "\n",
            "Test set: Avg. loss: 0.0347, Accuracy: 9880/10000 (98%)\n",
            "\n"
          ],
          "name": "stdout"
        }
      ]
    }
  ]
}